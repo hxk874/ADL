{
  "cells": [
    {
      "cell_type": "markdown",
      "id": "2c0abd51",
      "metadata": {
        "id": "2c0abd51"
      },
      "source": [
        "# Feedforward classification of the NMIST data\n",
        "### Advanced Deep Learning 2024\n",
        "This notebook was written originally Jon Sporring (mailto:sporring@di.ku.dk) and heavily inspired by https://clay-atlas.com/us/blog/2021/04/22/pytorch-en-tutorial-4-train-a-model-to-classify-mnist.\n",
        "\n",
        "We consider the Modified National Institute of Standards and Technology database of handwritten digits (MNIST): http://yann.lecun.com/exdb/mnist/"
      ]
    },
    {
      "cell_type": "code",
      "execution_count": 1,
      "id": "4afe90fa",
      "metadata": {
        "id": "4afe90fa"
      },
      "outputs": [],
      "source": [
        "try:\n",
        "  import google.colab\n",
        "  IN_COLAB = True\n",
        "except:\n",
        "  IN_COLAB = False\n",
        "if IN_COLAB:\n",
        "    !pip3 install torch matplotlib torchmetrics scikit-image segmentation-models-pytorch"
      ]
    },
    {
      "cell_type": "markdown",
      "id": "0112f199",
      "metadata": {
        "id": "0112f199"
      },
      "source": [
        "## Imports"
      ]
    },
    {
      "cell_type": "code",
      "execution_count": 2,
      "id": "372f3da4",
      "metadata": {
        "id": "372f3da4"
      },
      "outputs": [],
      "source": [
        "import torch\n",
        "import torch.nn as nn\n",
        "import torch.optim as optim\n",
        "import torch.utils.data as dset\n",
        "from torchvision import datasets, transforms"
      ]
    },
    {
      "cell_type": "markdown",
      "id": "709fa153",
      "metadata": {
        "id": "709fa153"
      },
      "source": [
        "## Set global device"
      ]
    },
    {
      "cell_type": "code",
      "execution_count": 3,
      "id": "ef384f3a",
      "metadata": {
        "id": "ef384f3a"
      },
      "outputs": [
        {
          "name": "stdout",
          "output_type": "stream",
          "text": [
            "GPU State: cpu\n"
          ]
        }
      ],
      "source": [
        "# GPU\n",
        "device = 'cuda:0' if torch.cuda.is_available() else 'cpu'\n",
        "print('GPU State:', device)"
      ]
    },
    {
      "cell_type": "markdown",
      "id": "c0479fa7",
      "metadata": {
        "id": "c0479fa7"
      },
      "source": [
        "## Functions"
      ]
    },
    {
      "cell_type": "code",
      "execution_count": 4,
      "id": "16d728ef",
      "metadata": {
        "id": "16d728ef"
      },
      "outputs": [],
      "source": [
        "def training_loop(model, loss, optimizer, loader, epochs, verbose=True, device=device):\n",
        "    \"\"\"\n",
        "    Run training of a model given a loss function, optimizer and a set of training and validation data.\n",
        "    \"\"\"\n",
        "\n",
        "    # Train\n",
        "    for epoch in range(epochs):\n",
        "        running_loss = 0.0\n",
        "\n",
        "        for times, data in enumerate(loader):\n",
        "            inputs, labels = data[0].to(device), data[1].to(device)\n",
        "            inputs = inputs.view(inputs.shape[0], -1)\n",
        "\n",
        "            # Zero the parameter gradients\n",
        "            optimizer.zero_grad()\n",
        "\n",
        "            # Foward + backward + optimize\n",
        "            outputs = model(inputs)\n",
        "            loss_tensor = loss(outputs, labels)\n",
        "            loss_tensor.backward()\n",
        "            optimizer.step()\n",
        "\n",
        "            # Print statistics\n",
        "            running_loss += loss_tensor.item()\n",
        "            if verbose:\n",
        "                if times % 100 == 99 or times+1 == len(loader):\n",
        "                    print('[%d/%d, %d/%d] loss: %.3f' % (epoch+1, epochs, times+1, len(loader), running_loss/2000))"
      ]
    },
    {
      "cell_type": "code",
      "execution_count": 5,
      "id": "2d7ce08f",
      "metadata": {
        "id": "2d7ce08f"
      },
      "outputs": [],
      "source": [
        "def evaluate_model(model, loader, device=device):\n",
        "    \"\"\"\n",
        "    Evaluate a model 'model' on all batches of a torch DataLoader 'data_loader'.\n",
        "\n",
        "    Returns: the total number of correct classifications,\n",
        "             the total number of images\n",
        "             the list of the per class correct classification,\n",
        "             the list of the per class total number of images.\n",
        "    \"\"\"\n",
        "\n",
        "    # Test\n",
        "    correct = 0\n",
        "    total = 0\n",
        "\n",
        "    with torch.no_grad():\n",
        "        for data in loader:\n",
        "            inputs, labels = data\n",
        "            inputs, labels = inputs.to(device), labels.to(device)\n",
        "            inputs = inputs.view(inputs.shape[0], -1)\n",
        "\n",
        "            outputs = model(inputs)\n",
        "            _, predicted = torch.max(outputs.data, 1)\n",
        "            total += labels.size(0)\n",
        "            correct += (predicted == labels).sum().item()\n",
        "\n",
        "    class_correct = [0 for i in range(10)]\n",
        "    class_total = [0 for i in range(10)]\n",
        "\n",
        "    with torch.no_grad():\n",
        "        for data in loader:\n",
        "            inputs, labels = data[0].to(device), data[1].to(device)\n",
        "            inputs = inputs.view(inputs.shape[0], -1)\n",
        "\n",
        "            outputs = model(inputs)\n",
        "            _, predicted = torch.max(outputs, 1)\n",
        "            c = (predicted == labels).squeeze()\n",
        "            for i in range(10):\n",
        "                label = labels[i]\n",
        "                class_correct[label] += c[i].item()\n",
        "                class_total[label] += 1\n",
        "\n",
        "    return (correct, total, class_correct, class_total)\n"
      ]
    },
    {
      "cell_type": "markdown",
      "id": "cd353eee",
      "metadata": {
        "id": "cd353eee"
      },
      "source": [
        "## Main program"
      ]
    },
    {
      "cell_type": "code",
      "execution_count": 6,
      "id": "142ae598",
      "metadata": {
        "id": "142ae598"
      },
      "outputs": [],
      "source": [
        "# Transform\n",
        "transform = transforms.Compose(\n",
        "    [transforms.ToTensor(),\n",
        "     transforms.Normalize((0.5,), (0.5,)),]\n",
        ")"
      ]
    },
    {
      "cell_type": "code",
      "execution_count": 7,
      "id": "94591bc3",
      "metadata": {
        "id": "94591bc3"
      },
      "outputs": [],
      "source": [
        "# Data\n",
        "trainSet = datasets.MNIST(root='MNIST', download=True, train=True, transform=transform)\n",
        "testSet = datasets.MNIST(root='MNIST', download=True, train=False, transform=transform)\n",
        "trainLoader = dset.DataLoader(trainSet, batch_size=64, shuffle=True)\n",
        "testLoader = dset.DataLoader(testSet, batch_size=64, shuffle=False)"
      ]
    },
    {
      "cell_type": "markdown",
      "id": "0fa7b3fc",
      "metadata": {},
      "source": [
        "# part 2: change the code below\n",
        "\n",
        "Replace the code below with a convolutional neural network.\n",
        "\n",
        "Text from problem statement:\n",
        "\n",
        "Based on feedForwardMNIST.ipynb, make a new program CNNMNIST.ipynb where the feed-forward neural\n",
        "network has been replaced with a convolutional neural network. The new network must also use:\n",
        "Net(\n",
        "\n",
        "    (main): Sequential(\n",
        "    \n",
        "    (0): Conv2d(1, 16, kernel_size=(3, 3), stride=(1, 1))\n",
        "\n",
        "    (1): ReLU()\n",
        "\n",
        "    (2): MaxPool2d(kernel_size=2, stride=2, padding=0, dilation=1, ceil_mode=False) \n",
        "    \n",
        "    (3): Conv2d(16, 32, kernel_size=(3, 3), stride=(1, 1))\n",
        "\n",
        "    (4): ReLU()\n",
        "\n",
        "    (5): MaxPool2d(kernel_size=2, stride=2, padding=0, dilation=1, ceil_mode=False) \n",
        "    \n",
        "    (6): Flatten(start_dim=1, end_dim=-1)\n",
        "    \n",
        "    (7): Linear(in_features=800, out_features=10, bias=True)\n",
        "    \n",
        "    (8): LogSoftmax(dim=1)\n",
        ") )\n"
      ]
    },
    {
      "cell_type": "code",
      "execution_count": 8,
      "id": "848e7dcc",
      "metadata": {
        "id": "848e7dcc"
      },
      "outputs": [
        {
          "name": "stdout",
          "output_type": "stream",
          "text": [
            "Net(\n",
            "  (main): Sequential(\n",
            "    (0): Linear(in_features=784, out_features=128, bias=True)\n",
            "    (1): ReLU()\n",
            "    (2): Linear(in_features=128, out_features=64, bias=True)\n",
            "    (3): ReLU()\n",
            "    (4): Linear(in_features=64, out_features=10, bias=True)\n",
            "    (5): LogSoftmax(dim=1)\n",
            "  )\n",
            ")\n"
          ]
        }
      ],
      "source": [
        "# Model\n",
        "class Net(nn.Module):\n",
        "    def __init__(self):\n",
        "        super(Net, self).__init__()\n",
        "        self.main = nn.Sequential(\n",
        "            nn.Linear(in_features=784, out_features=128),\n",
        "            nn.ReLU(),\n",
        "            nn.Linear(in_features=128, out_features=64),\n",
        "            nn.ReLU(),\n",
        "            nn.Linear(in_features=64, out_features=10),\n",
        "            nn.LogSoftmax(dim=1)\n",
        "        )\n",
        "\n",
        "    def forward(self, input):\n",
        "        return self.main(input)\n",
        "\n",
        "\n",
        "net = Net().to(device)\n",
        "print(net)"
      ]
    },
    {
      "cell_type": "code",
      "execution_count": 9,
      "id": "fce0735b",
      "metadata": {
        "id": "fce0735b"
      },
      "outputs": [
        {
          "name": "stdout",
          "output_type": "stream",
          "text": [
            "Training on 60000 images\n",
            "[1/4, 100/938] loss: 0.110\n",
            "[1/4, 200/938] loss: 0.192\n",
            "[1/4, 300/938] loss: 0.237\n",
            "[1/4, 400/938] loss: 0.268\n",
            "[1/4, 500/938] loss: 0.292\n",
            "[1/4, 600/938] loss: 0.314\n",
            "[1/4, 700/938] loss: 0.334\n",
            "[1/4, 800/938] loss: 0.354\n",
            "[1/4, 900/938] loss: 0.371\n",
            "[1/4, 938/938] loss: 0.378\n",
            "[2/4, 100/938] loss: 0.017\n",
            "[2/4, 200/938] loss: 0.034\n",
            "[2/4, 300/938] loss: 0.051\n",
            "[2/4, 400/938] loss: 0.067\n",
            "[2/4, 500/938] loss: 0.083\n",
            "[2/4, 600/938] loss: 0.098\n",
            "[2/4, 700/938] loss: 0.112\n",
            "[2/4, 800/938] loss: 0.127\n",
            "[2/4, 900/938] loss: 0.142\n",
            "[2/4, 938/938] loss: 0.147\n",
            "[3/4, 100/938] loss: 0.013\n",
            "[3/4, 200/938] loss: 0.027\n",
            "[3/4, 300/938] loss: 0.040\n",
            "[3/4, 400/938] loss: 0.053\n",
            "[3/4, 500/938] loss: 0.067\n",
            "[3/4, 600/938] loss: 0.079\n",
            "[3/4, 700/938] loss: 0.092\n",
            "[3/4, 800/938] loss: 0.104\n",
            "[3/4, 900/938] loss: 0.116\n",
            "[3/4, 938/938] loss: 0.121\n",
            "[4/4, 100/938] loss: 0.012\n",
            "[4/4, 200/938] loss: 0.023\n",
            "[4/4, 300/938] loss: 0.034\n",
            "[4/4, 400/938] loss: 0.046\n",
            "[4/4, 500/938] loss: 0.057\n",
            "[4/4, 600/938] loss: 0.067\n",
            "[4/4, 700/938] loss: 0.078\n",
            "[4/4, 800/938] loss: 0.089\n",
            "[4/4, 900/938] loss: 0.099\n",
            "[4/4, 938/938] loss: 0.103\n",
            "Training Finished.\n",
            "\n",
            "Accuracy of the network on the 10000 test images: 93 %\n",
            "Accuracy of 0: 0.973684\n",
            "Accuracy of 1: 0.983784\n",
            "Accuracy of 2: 0.936047\n",
            "Accuracy of 3: 0.923077\n",
            "Accuracy of 4: 0.960452\n",
            "Accuracy of 5: 0.904762\n",
            "Accuracy of 6: 0.945312\n",
            "Accuracy of 7: 0.932927\n",
            "Accuracy of 8: 0.944056\n",
            "Accuracy of 9: 0.874251\n"
          ]
        }
      ],
      "source": [
        "# Parameters\n",
        "epochs = 4\n",
        "lr = 0.002\n",
        "loss = nn.NLLLoss()\n",
        "optimizer = optim.SGD(net.parameters(), lr=0.002, momentum=0.9)\n",
        "\n",
        "# Train\n",
        "print('Training on %d images' % trainSet.data.shape[0])\n",
        "training_loop(net, loss, optimizer, trainLoader, epochs)\n",
        "print('Training Finished.\\n')\n",
        "\n",
        "# Test\n",
        "correct, total, class_correct, class_total = evaluate_model(net, testLoader)\n",
        "print('Accuracy of the network on the %d test images: %d %%' % (testSet.data.shape[0], (100*correct / total)))\n",
        "for i in range(10):\n",
        "    print('Accuracy of %d: %3f' % (i, (class_correct[i]/class_total[i])))"
      ]
    },
    {
      "cell_type": "markdown",
      "id": "d47237fa",
      "metadata": {},
      "source": [
        "## Test below:"
      ]
    },
    {
      "cell_type": "code",
      "execution_count": 11,
      "id": "f270818f",
      "metadata": {},
      "outputs": [
        {
          "name": "stdout",
          "output_type": "stream",
          "text": [
            "Training on 60000 images\n",
            "Epoch 1/4, Loss: 0.4737\n",
            "Epoch 2/4, Loss: 0.1205\n",
            "Epoch 3/4, Loss: 0.0870\n",
            "Epoch 4/4, Loss: 0.0730\n",
            "Training Finished.\n",
            "\n",
            "Accuracy of the network on the 10000 test images: 98 %\n",
            "Accuracy of 0: 0.994\n",
            "Accuracy of 1: 0.997\n",
            "Accuracy of 2: 0.980\n",
            "Accuracy of 3: 0.976\n",
            "Accuracy of 4: 0.990\n",
            "Accuracy of 5: 0.981\n",
            "Accuracy of 6: 0.971\n",
            "Accuracy of 7: 0.977\n",
            "Accuracy of 8: 0.969\n",
            "Accuracy of 9: 0.971\n"
          ]
        }
      ],
      "source": [
        "import torch\n",
        "import torch.nn as nn\n",
        "import torch.optim as optim\n",
        "import torchvision.transforms as transforms\n",
        "from torch.utils.data import DataLoader\n",
        "from torchvision.datasets import MNIST\n",
        "\n",
        "# Define the CNN model\n",
        "class Net(nn.Module):\n",
        "    def __init__(self):\n",
        "        super(Net, self).__init__()\n",
        "        self.main = nn.Sequential(\n",
        "            nn.Conv2d(1, 16, kernel_size=(3, 3), stride=(1, 1)),\n",
        "            nn.ReLU(),\n",
        "            nn.MaxPool2d(kernel_size=2, stride=2),\n",
        "            nn.Conv2d(16, 32, kernel_size=(3, 3), stride=(1, 1)), # 3*3*32 filters = 288\n",
        "            nn.ReLU(),\n",
        "            nn.MaxPool2d(kernel_size=2, stride=2),\n",
        "            nn.Flatten(), \n",
        "            nn.Linear(in_features=800, out_features=10),\n",
        "            nn.LogSoftmax(dim=1)\n",
        "        )\n",
        "\n",
        "    def forward(self, input):\n",
        "        return self.main(input)\n",
        "\n",
        "# Load MNIST data\n",
        "transform = transforms.Compose([transforms.ToTensor(), transforms.Normalize((0.5,), (0.5,))])\n",
        "trainSet = MNIST(root='./data', train=True, download=True, transform=transform)\n",
        "testSet = MNIST(root='./data', train=False, download=True, transform=transform)\n",
        "\n",
        "# Define data loaders\n",
        "trainLoader = DataLoader(trainSet, batch_size=64, shuffle=True)\n",
        "testLoader = DataLoader(testSet, batch_size=64, shuffle=False)\n",
        "\n",
        "# Initialize the CNN model\n",
        "net = Net()\n",
        "\n",
        "# Parameters\n",
        "epochs = 4\n",
        "lr = 0.002\n",
        "loss_fn = nn.NLLLoss()\n",
        "optimizer = optim.SGD(net.parameters(), lr=lr, momentum=0.9)\n",
        "\n",
        "# Train\n",
        "print('Training on %d images' % len(trainSet))\n",
        "for epoch in range(epochs):\n",
        "    net.train()\n",
        "    running_loss = 0.0\n",
        "    for inputs, labels in trainLoader:\n",
        "        optimizer.zero_grad()\n",
        "        outputs = net(inputs)\n",
        "        loss = loss_fn(outputs, labels)\n",
        "        loss.backward()\n",
        "        optimizer.step()\n",
        "        running_loss += loss.item() * inputs.size(0)\n",
        "    epoch_loss = running_loss / len(trainSet)\n",
        "    print(f\"Epoch {epoch+1}/{epochs}, Loss: {epoch_loss:.4f}\")\n",
        "\n",
        "print('Training Finished.\\n')\n",
        "\n",
        "# Test\n",
        "correct = 0\n",
        "total = 0\n",
        "class_correct = [0 for _ in range(10)]\n",
        "class_total = [0 for _ in range(10)]\n",
        "net.eval()\n",
        "with torch.no_grad():\n",
        "    for inputs, labels in testLoader:\n",
        "        outputs = net(inputs)\n",
        "        _, predicted = torch.max(outputs, 1)\n",
        "        total += labels.size(0)\n",
        "        correct += (predicted == labels).sum().item()\n",
        "        for i in range(len(labels)):\n",
        "            label = labels[i]\n",
        "            class_correct[label] += (predicted[i] == label).item()\n",
        "            class_total[label] += 1\n",
        "\n",
        "print('Accuracy of the network on the %d test images: %d %%' % (len(testSet), (100*correct / total)))\n",
        "for i in range(10):\n",
        "    print('Accuracy of %d: %.3f' % (i, (class_correct[i]/class_total[i])))\n"
      ]
    }
  ],
  "metadata": {
    "colab": {
      "provenance": []
    },
    "kernelspec": {
      "display_name": "Python 3.9.13 ('base')",
      "language": "python",
      "name": "python3"
    },
    "language_info": {
      "codemirror_mode": {
        "name": "ipython",
        "version": 3
      },
      "file_extension": ".py",
      "mimetype": "text/x-python",
      "name": "python",
      "nbconvert_exporter": "python",
      "pygments_lexer": "ipython3",
      "version": "3.10.9"
    },
    "vscode": {
      "interpreter": {
        "hash": "5752aa9ab330d3759c83a1b34e6976ab41b98e9e7a9be5fc074dbcab196bea16"
      }
    }
  },
  "nbformat": 4,
  "nbformat_minor": 5
}
