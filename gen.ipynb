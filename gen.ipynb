{
 "cells": [
  {
   "cell_type": "code",
   "execution_count": 1,
   "metadata": {},
   "outputs": [],
   "source": [
    "import torch\n",
    "import torch.nn as nn\n",
    "import torch.optim as optim\n",
    "import numpy as np"
   ]
  },
  {
   "cell_type": "code",
   "execution_count": 31,
   "metadata": {},
   "outputs": [
    {
     "data": {
      "text/plain": [
       "5"
      ]
     },
     "execution_count": 31,
     "metadata": {},
     "output_type": "execute_result"
    }
   ],
   "source": [
    "np.random.randint(1, min((20 + 2) // 3, 8)) "
   ]
  },
  {
   "cell_type": "code",
   "execution_count": 35,
   "metadata": {},
   "outputs": [],
   "source": [
    "# Function to generate data\n",
    "def generate_data(max_length, num_samples, p):\n",
    "    data = []\n",
    "    while len(data) < num_samples:\n",
    "        n = np.random.randint(1, min((max_length + 2) // 3, 8))  # Limit n to ensure total length <= 20\n",
    "        total_length = 3 * n\n",
    "        if total_length > max_length:\n",
    "            continue\n",
    "\n",
    "        # Determine if the sample should be from the language or not based on probability p\n",
    "        if np.random.rand() < p:\n",
    "            sample = 'a' * n + 'b' * n + 'c' * n\n",
    "            data.append((sample, 1))  # Label 1 for samples in the language\n",
    "        else:\n",
    "            sample = ''\n",
    "            for _ in range(total_length):\n",
    "                char = np.random.choice(['a', 'b', 'c'])\n",
    "                sample += char\n",
    "            data.append((sample, 0))  # Label 0 for non-language samples\n",
    "\n",
    "    return data"
   ]
  },
  {
   "cell_type": "code",
   "execution_count": 38,
   "metadata": {},
   "outputs": [
    {
     "data": {
      "text/plain": [
       "[('aaabbbccc', 1),\n",
       " ('bbb', 0),\n",
       " ('aaaaaabbbbbbcccccc', 1),\n",
       " ('bcbcbcabacbbcbcaaa', 0),\n",
       " ('aabcacccacbcbcbaaa', 0),\n",
       " ('aaaabbbbcccc', 1),\n",
       " ('acabbb', 0),\n",
       " ('acabbbccc', 0),\n",
       " ('aaaaaabbbbbbcccccc', 1),\n",
       " ('babbbcbcabacbbcaaa', 0),\n",
       " ('aaabbbccc', 1),\n",
       " ('baa', 0),\n",
       " ('aabbcc', 1),\n",
       " ('cacaca', 0),\n",
       " ('aaabbbccc', 1),\n",
       " ('aaaaabbbbbccccc', 1),\n",
       " ('acbabcacbabccccacc', 0),\n",
       " ('aabbcc', 1),\n",
       " ('aaaabbbbcccc', 1),\n",
       " ('aaaabbbbcccc', 1)]"
      ]
     },
     "execution_count": 38,
     "metadata": {},
     "output_type": "execute_result"
    }
   ],
   "source": [
    "generate_data(20, 20,0.5)"
   ]
  },
  {
   "cell_type": "code",
   "execution_count": 39,
   "metadata": {},
   "outputs": [],
   "source": [
    "# Function to convert data to tensors\n",
    "def data_to_tensor(data):\n",
    "    X = []\n",
    "    y = []\n",
    "    for sample, label in data:\n",
    "        sample_tensor = torch.zeros(len(sample), dtype=torch.long)\n",
    "        for i, char in enumerate(sample):\n",
    "            if char == 'a':\n",
    "                sample_tensor[i] = 0\n",
    "            elif char == 'b':\n",
    "                sample_tensor[i] = 1\n",
    "            else:\n",
    "                sample_tensor[i] = 2\n",
    "        X.append(sample_tensor)\n",
    "        y.append(label)\n",
    "\n",
    "    return torch.stack(X), torch.tensor(y, dtype=torch.float)"
   ]
  },
  {
   "cell_type": "code",
   "execution_count": null,
   "metadata": {},
   "outputs": [],
   "source": [
    "# Define the RNN model\n",
    "class RNNModel(nn.Module):\n",
    "    def __init__(self, input_size, hidden_size, output_size):\n",
    "        super(RNNModel, self).__init__()\n",
    "        self.hidden_size = hidden_size\n",
    "        self.rnn = nn.RNN(input_size, hidden_size, batch_first=True)\n",
    "        self.fc = nn.Linear(hidden_size, output_size)\n",
    "\n",
    "    def forward(self, x):\n",
    "        _, hidden = self.rnn(x)\n",
    "        output = self.fc(hidden.squeeze(0))\n",
    "        return output\n",
    "\n",
    "# Function to train the model\n"
   ]
  },
  {
   "cell_type": "code",
   "execution_count": null,
   "metadata": {},
   "outputs": [],
   "source": [
    "def train_model(model, X_train, y_train, X_val, y_val, num_epochs=100, lr=0.001):\n",
    "    criterion = nn.BCEWithLogitsLoss()\n",
    "    optimizer = optim.Adam(model.parameters(), lr=lr)\n",
    "\n",
    "    for epoch in range(num_epochs):\n",
    "        model.train()\n",
    "        optimizer.zero_grad()\n",
    "\n",
    "        output = model(X_train)\n",
    "        loss = criterion(output.squeeze(), y_train)\n",
    "        loss.backward()\n",
    "        optimizer.step()\n",
    "\n",
    "        # Validation loss\n",
    "        model.eval()\n",
    "        with torch.no_grad():\n",
    "            val_output = model(X_val)\n",
    "            val_loss = criterion(val_output.squeeze(), y_val)\n",
    "\n",
    "        if epoch % 10 == 0:\n",
    "            print(f'Epoch {epoch}, Training Loss: {loss.item()}, Validation Loss: {val_loss.item()}')"
   ]
  },
  {
   "cell_type": "code",
   "execution_count": null,
   "metadata": {},
   "outputs": [],
   "source": [
    "\n",
    "\n",
    "# Generate data\n",
    "data = generate_data(max_length=20, num_samples=1000, p=0.8)  # 80% of the samples are from the language\n",
    "X, y = data_to_tensor(data)\n",
    "\n",
    "# Split data into training and validation sets\n",
    "split_idx = int(0.8 * len(data))\n",
    "X_train, X_val = X[:split_idx], X[split_idx:]\n",
    "y_train, y_val = y[:split_idx], y[split_idx:]\n",
    "\n",
    "# Initialize and train the RNN model\n",
    "input_size = 3  # one-hot encoding for characters a, b, c\n",
    "hidden_size = 16\n",
    "output_size = 1\n",
    "rnn_model = RNNModel(input_size, hidden_size, output_size)\n",
    "train_model(rnn_model, X_train.unsqueeze(0), y_train, X_val.unsqueeze(0), y_val)"
   ]
  }
 ],
 "metadata": {
  "kernelspec": {
   "display_name": "base",
   "language": "python",
   "name": "python3"
  },
  "language_info": {
   "codemirror_mode": {
    "name": "ipython",
    "version": 3
   },
   "file_extension": ".py",
   "mimetype": "text/x-python",
   "name": "python",
   "nbconvert_exporter": "python",
   "pygments_lexer": "ipython3",
   "version": "3.10.9"
  }
 },
 "nbformat": 4,
 "nbformat_minor": 2
}
