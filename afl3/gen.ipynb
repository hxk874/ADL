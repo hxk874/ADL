{
 "cells": [
  {
   "cell_type": "code",
   "execution_count": 40,
   "metadata": {},
   "outputs": [],
   "source": [
    "import torch\n",
    "import torch.nn as nn\n",
    "import torch.optim as optim\n",
    "import numpy as np"
   ]
  },
  {
   "cell_type": "code",
   "execution_count": 42,
   "metadata": {},
   "outputs": [],
   "source": [
    "# Function to generate data\n",
    "def generate_data(max_length, num_samples, p):\n",
    "    data = []\n",
    "    while len(data) < num_samples:\n",
    "        n = np.random.randint(1, min((max_length + 2) // 3, 8))  # Limit n to ensure total length <= 20\n",
    "        total_length = 3 * n\n",
    "        if total_length > max_length:\n",
    "            continue\n",
    "\n",
    "        # Determine if the sample should be from the language or not based on probability p\n",
    "        if np.random.rand() < p:\n",
    "            sample = 'a' * n + 'b' * n + 'c' * n\n",
    "            data.append((sample, 1))  # Label 1 for samples in the language\n",
    "        else:\n",
    "            sample = ''\n",
    "            for _ in range(total_length):\n",
    "                char = np.random.choice(['a', 'b', 'c'])\n",
    "                sample += char\n",
    "            data.append((sample, 0))  # Label 0 for non-language samples\n",
    "\n",
    "    return data"
   ]
  },
  {
   "cell_type": "code",
   "execution_count": 43,
   "metadata": {},
   "outputs": [
    {
     "data": {
      "text/plain": [
       "[('aabbbb', 0),\n",
       " ('aaaaaabbbbbbcccccc', 1),\n",
       " ('accbccabcbbaaaa', 0),\n",
       " ('abcccccbabccabbbbc', 0),\n",
       " ('aaabbbccc', 1),\n",
       " ('abbbcbcacbac', 0),\n",
       " ('ccbaabaabbba', 0),\n",
       " ('aabaabccc', 0),\n",
       " ('ccb', 0),\n",
       " ('aaaaaabbbbbbcccccc', 1),\n",
       " ('cbcbcbacacbacbb', 0),\n",
       " ('cacbbbacbcca', 0),\n",
       " ('bcccabbacbbaaaa', 0),\n",
       " ('bacbbb', 0),\n",
       " ('aabccbabaacc', 0),\n",
       " ('accbba', 0),\n",
       " ('aaaabbbbcccc', 1),\n",
       " ('cac', 0),\n",
       " ('bbbcaccbaacccca', 0),\n",
       " ('caacaccccccb', 0)]"
      ]
     },
     "execution_count": 43,
     "metadata": {},
     "output_type": "execute_result"
    }
   ],
   "source": [
    "generate_data(20, 20,0.5)"
   ]
  },
  {
   "cell_type": "code",
   "execution_count": 44,
   "metadata": {},
   "outputs": [],
   "source": [
    "# Function to convert data to tensors\n",
    "def data_to_tensor(data):\n",
    "    X = []\n",
    "    y = []\n",
    "    for sample, label in data:\n",
    "        sample_tensor = torch.zeros(len(sample), dtype=torch.long)\n",
    "        for i, char in enumerate(sample):\n",
    "            if char == 'a':\n",
    "                sample_tensor[i] = 0\n",
    "            elif char == 'b':\n",
    "                sample_tensor[i] = 1\n",
    "            else:\n",
    "                sample_tensor[i] = 2\n",
    "        X.append(sample_tensor)\n",
    "        y.append(label)\n",
    "\n",
    "    return torch.stack(X), torch.tensor(y, dtype=torch.float)"
   ]
  },
  {
   "cell_type": "code",
   "execution_count": 45,
   "metadata": {},
   "outputs": [],
   "source": [
    "# Define the RNN model\n",
    "class RNNModel(nn.Module):\n",
    "    def __init__(self, input_size, hidden_size, output_size):\n",
    "        super(RNNModel, self).__init__()\n",
    "        self.hidden_size = hidden_size\n",
    "        self.rnn = nn.RNN(input_size, hidden_size, batch_first=True)\n",
    "        self.fc = nn.Linear(hidden_size, output_size)\n",
    "\n",
    "    def forward(self, x):\n",
    "        _, hidden = self.rnn(x)\n",
    "        output = self.fc(hidden.squeeze(0))\n",
    "        return output"
   ]
  },
  {
   "cell_type": "code",
   "execution_count": 46,
   "metadata": {},
   "outputs": [],
   "source": [
    "# Function to train the model\n",
    "def train_model(model, X_train, y_train, X_val, y_val, num_epochs=100, lr=0.001):\n",
    "    criterion = nn.BCEWithLogitsLoss()\n",
    "    optimizer = optim.Adam(model.parameters(), lr=lr)\n",
    "\n",
    "    for epoch in range(num_epochs):\n",
    "        model.train()\n",
    "        optimizer.zero_grad()\n",
    "\n",
    "        output = model(X_train)\n",
    "        loss = criterion(output.squeeze(), y_train)\n",
    "        loss.backward()\n",
    "        optimizer.step()\n",
    "\n",
    "        # Validation loss\n",
    "        model.eval()\n",
    "        with torch.no_grad():\n",
    "            val_output = model(X_val)\n",
    "            val_loss = criterion(val_output.squeeze(), y_val)\n",
    "\n",
    "        if epoch % 10 == 0:\n",
    "            print(f'Epoch {epoch}, Training Loss: {loss.item()}, Validation Loss: {val_loss.item()}')"
   ]
  },
  {
   "cell_type": "code",
   "execution_count": 47,
   "metadata": {},
   "outputs": [
    {
     "ename": "RuntimeError",
     "evalue": "stack expects each tensor to be equal size, but got [3] at entry 0 and [18] at entry 1",
     "output_type": "error",
     "traceback": [
      "\u001b[0;31m---------------------------------------------------------------------------\u001b[0m",
      "\u001b[0;31mRuntimeError\u001b[0m                              Traceback (most recent call last)",
      "Cell \u001b[0;32mIn[47], line 3\u001b[0m\n\u001b[1;32m      1\u001b[0m \u001b[38;5;66;03m# Generate data\u001b[39;00m\n\u001b[1;32m      2\u001b[0m data \u001b[38;5;241m=\u001b[39m generate_data(max_length\u001b[38;5;241m=\u001b[39m\u001b[38;5;241m20\u001b[39m, num_samples\u001b[38;5;241m=\u001b[39m\u001b[38;5;241m1000\u001b[39m, p\u001b[38;5;241m=\u001b[39m\u001b[38;5;241m0.8\u001b[39m)  \u001b[38;5;66;03m# 80% of the samples are from the language\u001b[39;00m\n\u001b[0;32m----> 3\u001b[0m X, y \u001b[38;5;241m=\u001b[39m \u001b[43mdata_to_tensor\u001b[49m\u001b[43m(\u001b[49m\u001b[43mdata\u001b[49m\u001b[43m)\u001b[49m\n\u001b[1;32m      5\u001b[0m \u001b[38;5;66;03m# Split data into training and validation sets\u001b[39;00m\n\u001b[1;32m      6\u001b[0m split_idx \u001b[38;5;241m=\u001b[39m \u001b[38;5;28mint\u001b[39m(\u001b[38;5;241m0.8\u001b[39m \u001b[38;5;241m*\u001b[39m \u001b[38;5;28mlen\u001b[39m(data))\n",
      "Cell \u001b[0;32mIn[44], line 17\u001b[0m, in \u001b[0;36mdata_to_tensor\u001b[0;34m(data)\u001b[0m\n\u001b[1;32m     14\u001b[0m     X\u001b[38;5;241m.\u001b[39mappend(sample_tensor)\n\u001b[1;32m     15\u001b[0m     y\u001b[38;5;241m.\u001b[39mappend(label)\n\u001b[0;32m---> 17\u001b[0m \u001b[38;5;28;01mreturn\u001b[39;00m \u001b[43mtorch\u001b[49m\u001b[38;5;241;43m.\u001b[39;49m\u001b[43mstack\u001b[49m\u001b[43m(\u001b[49m\u001b[43mX\u001b[49m\u001b[43m)\u001b[49m, torch\u001b[38;5;241m.\u001b[39mtensor(y, dtype\u001b[38;5;241m=\u001b[39mtorch\u001b[38;5;241m.\u001b[39mfloat)\n",
      "\u001b[0;31mRuntimeError\u001b[0m: stack expects each tensor to be equal size, but got [3] at entry 0 and [18] at entry 1"
     ]
    }
   ],
   "source": [
    "# Generate data\n",
    "data = generate_data(max_length=20, num_samples=1000, p=0.8)  # 80% of the samples are from the language\n",
    "X, y = data_to_tensor(data)\n",
    "\n",
    "# Split data into training and validation sets\n",
    "split_idx = int(0.8 * len(data))\n",
    "X_train, X_val = X[:split_idx], X[split_idx:]\n",
    "y_train, y_val = y[:split_idx], y[split_idx:]\n",
    "\n",
    "# Initialize and train the RNN model\n",
    "input_size = 3  # one-hot encoding for characters a, b, c\n",
    "hidden_size = 16\n",
    "output_size = 1\n",
    "rnn_model = RNNModel(input_size, hidden_size, output_size)\n",
    "train_model(rnn_model, X_train.unsqueeze(0), y_train, X_val.unsqueeze(0), y_val)"
   ]
  },
  {
   "cell_type": "code",
   "execution_count": 59,
   "metadata": {},
   "outputs": [
    {
     "name": "stdout",
     "output_type": "stream",
     "text": [
      "[('babc', 'bc', 'abca', 'acbbccababaccbcbaa', 'aaacbaabac', 'aabacaaaaa', 'cbacaacb', 'ababb', 'aaacbbaabcacaaacaacb', 'aaaacac', 'baaaaba', 'baabaaaa', 'bcacacaaaaababaccb', 'bacbbcbcbbbaccccbaca', 'bcbaca', 'bcaa', 'bcca', 'aaaa', 'baca', 'acbcbbbabbcbcbbabba', 'aaa', 'b', 'cabaaabcacaaaaaa', 'bacacaa', 'a', 'cbbbcccabcabcacbbb', 'acaabaaba', 'cabbaacabbabbbcaa', 'ccacacc', 'acccacc', 'caaa', 'bacbaccbcb'), tensor([0, 0, 0, 1, 0, 0, 0, 0, 0, 0, 0, 0, 0, 0, 1, 0, 0, 0, 0, 0, 0, 0, 0, 0,\n",
      "        0, 0, 0, 0, 0, 0, 0, 0])]\n"
     ]
    }
   ],
   "source": [
    "import torch\n",
    "from torch.utils.data import Dataset, DataLoader\n",
    "import numpy as np\n",
    "\n",
    "class LanguageDataset(Dataset):\n",
    "    def __init__(self, max_length, p, num_samples):\n",
    "        self.max_length = max_length\n",
    "        self.p = p\n",
    "        self.num_samples = num_samples\n",
    "        \n",
    "        self.samples = self.generate_samples()\n",
    "    \n",
    "    def generate_samples(self):\n",
    "        samples = []\n",
    "        for _ in range(self.num_samples):\n",
    "            length = np.random.randint(1, self.max_length + 1)\n",
    "            sequence = self.generate_sequence(length)\n",
    "            samples.append((sequence, int(self.is_language(sequence))))\n",
    "        return samples\n",
    "    \n",
    "    def generate_sequence(self, length):\n",
    "        sequence = \"\"\n",
    "        for _ in range(length):\n",
    "            choice = np.random.choice(['a', 'b', 'c'], p=self.p)\n",
    "            sequence += choice\n",
    "        return sequence\n",
    "    \n",
    "    def is_language(self, sequence):\n",
    "        # Check if the sequence belongs to the language a^n b^n c^n\n",
    "        counts = {'a': 0, 'b': 0, 'c': 0}\n",
    "        for char in sequence:\n",
    "            counts[char] += 1\n",
    "        return counts['a'] == counts['b'] == counts['c']\n",
    "    \n",
    "    def __len__(self):\n",
    "        return len(self.samples)\n",
    "    \n",
    "    def __getitem__(self, idx):\n",
    "        return self.samples[idx]\n",
    "\n",
    "def generate_data(max_length, p, num_samples, batch_size=32):\n",
    "    dataset = LanguageDataset(max_length, p, num_samples)\n",
    "    data_loader = DataLoader(dataset, batch_size=batch_size, shuffle=True)\n",
    "    return data_loader\n",
    "\n",
    "# Example usage:\n",
    "max_length = 20\n",
    "p = [0.3, 0.3, 0.4]  # Probability distribution for choosing characters\n",
    "num_samples = 1000\n",
    "batch_size = 32\n",
    "\n",
    "data_loader = generate_data(max_length, p, num_samples, batch_size)\n",
    "\n",
    "# Printing first batch as an example\n",
    "for batch in data_loader:\n",
    "    print(batch)\n",
    "    break\n"
   ]
  },
  {
   "cell_type": "code",
   "execution_count": 57,
   "metadata": {},
   "outputs": [
    {
     "name": "stdout",
     "output_type": "stream",
     "text": [
      "[('ccac', 'bccacacbccbaaabbaac', 'cabcbcabbacbabacab', 'bcabaaaaaca', 'cbababbbc', 'cbabacbbacaccca', 'cccacacbbcc', 'bbccbcacbacabbaa', 'abb', 'abbccbaacac', 'cccaccbacbaaabcc', 'abaac', 'bcbcbccbcca', 'cbbcaacbcaaaaa', 'bcacaccac', 'acbc', 'acccabacab', 'bbccacbacbaa', 'acbaabcbbbbbbb', 'bcacaaaca', 'bbccbaa', 'aaccaaaacb', 'baacbabbaaaaaabbaaa', 'cbacbbbbaaa', 'cbbacbccabbbacb', 'bcacaacccacccbc', 'a', 'cbcbcbac', 'abcaaccabccbaa', 'bcbabcaaaccaa', 'accabcaac', 'bcababacb'), tensor([0, 0, 0, 0, 0, 0, 0, 0, 0, 0, 0, 0, 0, 0, 0, 0, 0, 1, 0, 0, 0, 0, 0, 0,\n",
      "        0, 0, 0, 0, 0, 0, 0, 0])]\n"
     ]
    }
   ],
   "source": [
    "# print the first batch of data\n",
    "for batch in data_loader:\n",
    "    print(batch)\n",
    "    break"
   ]
  }
 ],
 "metadata": {
  "kernelspec": {
   "display_name": "base",
   "language": "python",
   "name": "python3"
  },
  "language_info": {
   "codemirror_mode": {
    "name": "ipython",
    "version": 3
   },
   "file_extension": ".py",
   "mimetype": "text/x-python",
   "name": "python",
   "nbconvert_exporter": "python",
   "pygments_lexer": "ipython3",
   "version": "3.10.9"
  }
 },
 "nbformat": 4,
 "nbformat_minor": 2
}
