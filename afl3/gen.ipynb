{
 "cells": [
  {
   "cell_type": "code",
   "execution_count": 1,
   "metadata": {},
   "outputs": [],
   "source": [
    "import torch\n",
    "import torch.nn as nn\n",
    "from torch.utils.data import Dataset, DataLoader\n",
    "import torch.optim as optim\n",
    "import numpy as np\n",
    "import torch"
   ]
  },
  {
   "cell_type": "code",
   "execution_count": 2,
   "metadata": {},
   "outputs": [],
   "source": [
    "# Function to generate data\n",
    "def generate_data(max_length, num_samples, p):\n",
    "    data = []\n",
    "    while len(data) < num_samples:\n",
    "        n = np.random.randint(1, min((max_length + 2) // 3, 8))  # Limit n to ensure total length <= 20\n",
    "        total_length = 3 * n\n",
    "        if total_length > max_length:\n",
    "            continue\n",
    "\n",
    "        # Determine if the sample should be from the language or not based on probability p\n",
    "        if np.random.rand() < p:\n",
    "            sample = 'a' * n + 'b' * n + 'c' * n\n",
    "            data.append((sample, 1))  # Label 1 for samples in the language\n",
    "        else:\n",
    "            sample = ''\n",
    "            for _ in range(total_length):\n",
    "                char = np.random.choice(['a', 'b', 'c'])\n",
    "                sample += char\n",
    "            data.append((sample, 0))  # Label 0 for non-language samples\n",
    "\n",
    "    return data\n",
    "\n",
    "#print(generate_data(20, 20,0.5))"
   ]
  },
  {
   "cell_type": "code",
   "execution_count": 3,
   "metadata": {},
   "outputs": [
    {
     "name": "stdout",
     "output_type": "stream",
     "text": [
      "[('c', 'baaab', 'abaaacccccbbbc', 'cacccccbbcaccaaabb', 'bbbacbbbc', 'cacacacbaaa', 'babc', 'cc', 'cab', 'c', 'aaacaccabacaacabaa', 'bc', 'abaaaac', 'ccbccccbacaccaabacba', 'caabcbccccbac', 'abaaccabbacbccccb', 'acabacbc', 'ac', 'bccabcbababcac', 'cbcbcacccbca', 'c', 'bbcacbbb', 'cbbabacbbbcbcba', 'abcccbaaac', 'cbbacccbca', 'acaabbcbabbcacabcabc', 'cbbababaabaacbbabca', 'bcbaccaca', 'cacbbccaaababcbcbc', 'bcbbaa', 'cccaa', 'aacbabccccbcaab'), tensor([0, 0, 0, 0, 0, 0, 0, 0, 1, 0, 0, 0, 0, 0, 0, 0, 0, 0, 0, 0, 0, 0, 0, 0,\n",
      "        0, 0, 0, 0, 0, 0, 0, 0])]\n"
     ]
    }
   ],
   "source": [
    "class LanguageDataset(Dataset):\n",
    "    def __init__(self, max_length, p, num_samples):\n",
    "        self.max_length = max_length\n",
    "        self.p = p\n",
    "        self.num_samples = num_samples\n",
    "        \n",
    "        self.samples = self.generate_samples()\n",
    "    \n",
    "    def generate_samples(self):\n",
    "        samples = []\n",
    "        for _ in range(self.num_samples):\n",
    "            length = np.random.randint(1, self.max_length + 1)\n",
    "            sequence = self.generate_sequence(length)\n",
    "            samples.append((sequence, int(self.is_language(sequence))))\n",
    "        return samples\n",
    "    \n",
    "    def generate_sequence(self, length):\n",
    "        sequence = \"\"\n",
    "        for _ in range(length):\n",
    "            choice = np.random.choice(['a', 'b', 'c'], p=self.p)\n",
    "            sequence += choice\n",
    "        return sequence\n",
    "    \n",
    "    def is_language(self, sequence):\n",
    "        # Check if the sequence belongs to the language a^n b^n c^n\n",
    "        counts = {'a': 0, 'b': 0, 'c': 0}\n",
    "        for char in sequence:\n",
    "            counts[char] += 1\n",
    "        return counts['a'] == counts['b'] == counts['c']\n",
    "    \n",
    "    def __len__(self):\n",
    "        return len(self.samples)\n",
    "    \n",
    "    def __getitem__(self, idx):\n",
    "        return self.samples[idx]\n",
    "\n",
    "def generate_data(max_length, p, num_samples, batch_size=32):\n",
    "    dataset = LanguageDataset(max_length, p, num_samples)\n",
    "    data_loader = DataLoader(dataset, batch_size=batch_size, shuffle=True)\n",
    "    return data_loader\n",
    "\n",
    "# Example usage:\n",
    "max_length = 20\n",
    "p = [0.3, 0.3, 0.4]  # Probability distribution for choosing characters\n",
    "num_samples = 1000\n",
    "batch_size = 32\n",
    "\n",
    "data_loader = generate_data(max_length, p, num_samples, batch_size)\n",
    "\n",
    "# Printing first batch as an example\n",
    "for batch in data_loader:\n",
    "    print(batch)\n",
    "    break\n"
   ]
  }
 ],
 "metadata": {
  "kernelspec": {
   "display_name": "base",
   "language": "python",
   "name": "python3"
  },
  "language_info": {
   "codemirror_mode": {
    "name": "ipython",
    "version": 3
   },
   "file_extension": ".py",
   "mimetype": "text/x-python",
   "name": "python",
   "nbconvert_exporter": "python",
   "pygments_lexer": "ipython3",
   "version": "3.10.9"
  }
 },
 "nbformat": 4,
 "nbformat_minor": 2
}
