{
 "cells": [
  {
   "cell_type": "code",
   "execution_count": 5,
   "metadata": {},
   "outputs": [],
   "source": [
    "import torch\n",
    "import torch.nn as nn\n",
    "import torch.optim as optim\n",
    "from torch.utils.data import Dataset, DataLoader, random_split\n",
    "import numpy as np"
   ]
  },
  {
   "cell_type": "code",
   "execution_count": 6,
   "metadata": {},
   "outputs": [],
   "source": [
    "class RNNCell(nn.Module):\n",
    "    def __init__(self, input_size, hidden_size):\n",
    "        super(RNNCell, self).__init__()\n",
    "        self.input_size = input_size\n",
    "        self.hidden_size = hidden_size\n",
    "        self.i2h = nn.Linear(input_size + hidden_size, hidden_size)\n",
    "        self.h2o = nn.Linear(hidden_size, hidden_size)\n",
    "\n",
    "    def forward(self, input, hidden):\n",
    "        combined = torch.cat((input, hidden), 1)\n",
    "        hidden = torch.tanh(self.i2h(combined))\n",
    "        output = self.h2o(hidden)\n",
    "        return output, hidden\n",
    "\n",
    "class RNN(nn.Module):\n",
    "    def __init__(self, input_size, hidden_size, output_size, n_layers=1):\n",
    "        super(RNN, self).__init__()\n",
    "        self.hidden_size = hidden_size\n",
    "        self.n_layers = n_layers\n",
    "        self.RNN_layers = nn.ModuleList([RNNCell(input_size, hidden_size) for _ in range(n_layers)])\n",
    "        self.fc = nn.Linear(hidden_size, output_size)\n",
    "\n",
    "    def forward(self, input, hidden=None):\n",
    "        if hidden is None:\n",
    "            hidden = self.init_hidden(input.size(0))\n",
    "        outputs = []\n",
    "        for layer_idx in range(self.n_layers):\n",
    "            layer_outputs = []\n",
    "            for input_idx in range(input.size(1)):\n",
    "                x = input[:, input_idx, :]\n",
    "                output, hidden[layer_idx] = self.RNN_layers[layer_idx](x, hidden[layer_idx])\n",
    "                layer_outputs.append(output)\n",
    "            outputs.append(torch.stack(layer_outputs, dim=1))\n",
    "            input = outputs[-1]\n",
    "        output = self.fc(outputs[-1][:, -1, :])\n",
    "        return output\n",
    "\n",
    "    def init_hidden(self, batch_size):\n",
    "        return [torch.zeros(batch_size, self.hidden_size) for _ in range(self.n_layers)]\n"
   ]
  },
  {
   "cell_type": "code",
   "execution_count": 7,
   "metadata": {},
   "outputs": [],
   "source": [
    "class LanguageDataset(Dataset):\n",
    "    '''\n",
    "    Args:\n",
    "    \n",
    "    Returns:\n",
    "    '''\n",
    "    def __init__(self, min_length, max_length, p, num_samples):\n",
    "        self.min_length = min_length\n",
    "        self.max_length = max_length\n",
    "        self.p = p\n",
    "        self.num_samples = num_samples\n",
    "        self.samples = self.generate_samples()\n",
    "        self.avg_len = self.average_length(self.samples)\n",
    "    \n",
    "    def generate_samples(self):\n",
    "        samples = []\n",
    "        for _ in range(self.num_samples):\n",
    "            length = np.random.randint(self.min_length, self.max_length + 1)\n",
    "            if np.random.rand() < self.p:\n",
    "                n = length // 3\n",
    "                sequence = 'a' * n + 'b' * n + 'c' * n\n",
    "            else:\n",
    "                # Generate an invalid sequence\n",
    "                sequence = self.generate_invalid_sequence(length)\n",
    "            samples.append((sequence, int(self.is_language(sequence))))\n",
    "        return samples\n",
    "    \n",
    "    def generate_invalid_sequence(self, length):\n",
    "        sequence = ''.join(np.random.choice(['a', 'b', 'c'], size=length))\n",
    "        while self.is_language(sequence):\n",
    "            sequence = ''.join(np.random.choice(['a', 'b', 'c'], size=length))\n",
    "        return sequence\n",
    "    \n",
    "    def is_language(self, sequence):\n",
    "        counts = {'a': 0, 'b': 0, 'c': 0}\n",
    "        for char in sequence:\n",
    "            counts[char] += 1\n",
    "        return counts['a'] == counts['b'] == counts['c']\n",
    "    \n",
    "    def average_length(self, samples):\n",
    "        return np.mean([len(sequence) for sequence, _ in self.samples])\n",
    "    \n",
    "    def __len__(self):\n",
    "        return len(self.samples)\n",
    "    \n",
    "    def __getitem__(self, idx):\n",
    "        sequence, label = self.samples[idx]\n",
    "        indices = torch.tensor([ord(c) - ord('a') for c in sequence], dtype=torch.long)\n",
    "        one_hot_sequence = torch.nn.functional.one_hot(indices, num_classes=3).float()\n",
    "        return one_hot_sequence, torch.tensor(label)\n",
    "\n",
    "def collate_fn(batch):\n",
    "    '''\n",
    "    Args:\n",
    "    \n",
    "    Returns:\n",
    "    '''\n",
    "    sequences, labels = zip(*batch)\n",
    "    sequences_padded = torch.nn.utils.rnn.pad_sequence(sequences, batch_first=True)\n",
    "    labels = torch.stack(labels)\n",
    "    return sequences_padded, labels\n",
    "\n",
    "\n",
    "def generate_data(min_length, max_length, p, num_samples, batch_size=32):\n",
    "    '''\n",
    "    Args:\n",
    "    \n",
    "    Returns:\n",
    "    '''\n",
    "    dataset = LanguageDataset(min_length, max_length, p, num_samples)\n",
    "    data_loader = DataLoader(dataset, batch_size=batch_size, shuffle=True, collate_fn=collate_fn)\n",
    "    return data_loader"
   ]
  },
  {
   "cell_type": "code",
   "execution_count": 8,
   "metadata": {},
   "outputs": [
    {
     "ename": "ValueError",
     "evalue": "too many values to unpack (expected 3)",
     "output_type": "error",
     "traceback": [
      "\u001b[0;31m---------------------------------------------------------------------------\u001b[0m",
      "\u001b[0;31mValueError\u001b[0m                                Traceback (most recent call last)",
      "\u001b[0;32m/var/folders/zn/swxwxbtx3gzbxgntvpx2cv5c0000gn/T/ipykernel_19029/2006184958.py\u001b[0m in \u001b[0;36m<module>\u001b[0;34m\u001b[0m\n\u001b[1;32m     38\u001b[0m \u001b[0mbest_model\u001b[0m \u001b[0;34m=\u001b[0m \u001b[0;32mNone\u001b[0m\u001b[0;34m\u001b[0m\u001b[0;34m\u001b[0m\u001b[0m\n\u001b[1;32m     39\u001b[0m \u001b[0;34m\u001b[0m\u001b[0m\n\u001b[0;32m---> 40\u001b[0;31m \u001b[0mtrain_loader\u001b[0m\u001b[0;34m,\u001b[0m \u001b[0mval_loader\u001b[0m\u001b[0;34m,\u001b[0m \u001b[0mtest_loader\u001b[0m \u001b[0;34m=\u001b[0m \u001b[0mgenerate_data\u001b[0m\u001b[0;34m(\u001b[0m\u001b[0;36m1\u001b[0m\u001b[0;34m,\u001b[0m \u001b[0;36m20\u001b[0m\u001b[0;34m,\u001b[0m \u001b[0;36m0.5\u001b[0m\u001b[0;34m,\u001b[0m \u001b[0;36m1000\u001b[0m\u001b[0;34m,\u001b[0m \u001b[0;36m32\u001b[0m\u001b[0;34m)\u001b[0m\u001b[0;34m\u001b[0m\u001b[0;34m\u001b[0m\u001b[0m\n\u001b[0m\u001b[1;32m     41\u001b[0m \u001b[0;34m\u001b[0m\u001b[0m\n\u001b[1;32m     42\u001b[0m \u001b[0mprint\u001b[0m\u001b[0;34m(\u001b[0m\u001b[0;34mf'Average sequence length: {train_loader.dataset.avg_len}'\u001b[0m\u001b[0;34m)\u001b[0m\u001b[0;34m\u001b[0m\u001b[0;34m\u001b[0m\u001b[0m\n",
      "\u001b[0;31mValueError\u001b[0m: too many values to unpack (expected 3)"
     ]
    }
   ],
   "source": [
    "def train_model(model, train_loader, val_loader, criterion, optimizer, num_epochs=10):\n",
    "    best_val_acc = 0\n",
    "    best_model = None\n",
    "    for epoch in range(num_epochs):\n",
    "        model.train()\n",
    "        for sequences, labels in train_loader:\n",
    "            optimizer.zero_grad()\n",
    "            hidden = model.init_hidden(sequences.size(0))\n",
    "            outputs = model(sequences, hidden)\n",
    "            loss = criterion(outputs, labels)\n",
    "            loss.backward()\n",
    "            optimizer.step()\n",
    "        \n",
    "        # Validation\n",
    "        model.eval()\n",
    "        correct = 0\n",
    "        total = 0\n",
    "        with torch.no_grad():\n",
    "            for sequences, labels in val_loader:\n",
    "                hidden = model.init_hidden(sequences.size(0))\n",
    "                outputs = model(sequences, hidden)\n",
    "                _, predicted = torch.max(outputs.data, 1)\n",
    "                total += labels.size(0)\n",
    "                correct += (predicted == labels).sum().item()\n",
    "        \n",
    "        val_acc = correct / total\n",
    "        if val_acc > best_val_acc:\n",
    "            best_val_acc = val_acc\n",
    "            best_model = model\n",
    "    return best_model, best_val_acc\n",
    "\n",
    "# Hyper-parameter search\n",
    "input_size = 3  # 'a', 'b', 'c'\n",
    "output_size = 2  # 0 or 1\n",
    "hidden_sizes = [16, 32, 64]\n",
    "learning_rates = [0.001, 0.01, 0.1]\n",
    "best_val_acc = 0\n",
    "best_model = None\n",
    "\n",
    "train_loader, val_loader, test_loader = generate_data(1, 20, 0.5, 1000, 32)\n",
    "\n",
    "print(f'Average sequence length: {train_loader.dataset.avg_len}')\n",
    "\n",
    "for hidden_size in hidden_sizes:\n",
    "    for lr in learning_rates:\n",
    "        model = RNN(input_size, hidden_size, output_size)\n",
    "        criterion = nn.CrossEntropyLoss()\n",
    "        optimizer = optim.Adam(model.parameters(), lr=lr)\n",
    "        \n",
    "        model, val_acc = train_model(model, train_loader, val_loader, criterion, optimizer, num_epochs=10)\n",
    "        \n",
    "        if val_acc > best_val_acc:\n",
    "            best_val_acc = val_acc\n",
    "            best_model = model\n",
    "\n",
    "print(f'Best validation accuracy: {best_val_acc}')\n",
    "\n"
   ]
  },
  {
   "cell_type": "code",
   "execution_count": null,
   "metadata": {},
   "outputs": [
    {
     "name": "stdout",
     "output_type": "stream",
     "text": [
      "Test accuracy: 0.9533333333333334\n"
     ]
    }
   ],
   "source": [
    "# Evaluate the best model on the test set\n",
    "best_model.eval()\n",
    "correct = 0\n",
    "total = 0\n",
    "with torch.no_grad():\n",
    "    for sequences, labels in test_loader:\n",
    "        hidden = best_model.init_hidden(sequences.size(0))\n",
    "        outputs = best_model(sequences, hidden)\n",
    "        _, predicted = torch.max(outputs.data, 1)\n",
    "        total += labels.size(0)\n",
    "        correct += (predicted == labels).sum().item()\n",
    "\n",
    "test_acc = correct / total\n",
    "print(f'Test accuracy: {test_acc}')\n"
   ]
  },
  {
   "cell_type": "code",
   "execution_count": null,
   "metadata": {},
   "outputs": [
    {
     "data": {
      "text/plain": [
       "0.3317717757007981"
      ]
     },
     "execution_count": 23,
     "metadata": {},
     "output_type": "execute_result"
    }
   ],
   "source": [
    "np.random.rand()"
   ]
  },
  {
   "cell_type": "code",
   "execution_count": 26,
   "metadata": {},
   "outputs": [
    {
     "name": "stdout",
     "output_type": "stream",
     "text": [
      "493\n"
     ]
    }
   ],
   "source": [
    "# After generating the data loader, split it into train, validation, and test sets\n",
    "data_loader = generate_data(1, 20, 0.5, 1000, 32)\n",
    "\n",
    "train_size = int(0.7 * len(data_loader.dataset))\n",
    "train_data, val_data = random_split(data_loader.dataset, [train_size, len(data_loader.dataset) - train_size])\n",
    "\n",
    "test_data = generate_data(21, 100, 0.5, 1000, 32).dataset\n",
    "\n",
    "# Create separate data loaders for train, validation, and test sets\n",
    "train_loader = DataLoader(train_data, batch_size=32, shuffle=True, collate_fn=collate_fn)\n",
    "val_loader = DataLoader(val_data, batch_size=32, shuffle=False, collate_fn=collate_fn)\n",
    "test_loader = DataLoader(test_data, batch_size=32, shuffle=False, collate_fn=collate_fn)\n",
    "\n",
    "label_sum = []\n",
    "\n",
    "with torch.no_grad():\n",
    "    for _, labels in test_loader:\n",
    "        label_sum.append( (labels == 1).sum().item())\n",
    "\n",
    "print((sum(label_sum)))"
   ]
  },
  {
   "cell_type": "code",
   "execution_count": 28,
   "metadata": {},
   "outputs": [
    {
     "data": {
      "text/plain": [
       "'c'"
      ]
     },
     "execution_count": 28,
     "metadata": {},
     "output_type": "execute_result"
    }
   ],
   "source": [
    "a = 'aaabbbccc'\n",
    "a[-1]"
   ]
  },
  {
   "cell_type": "code",
   "execution_count": null,
   "metadata": {},
   "outputs": [],
   "source": [
    "a = 'aaabbbccc'\n",
    "b = 'abcabcabc'\n",
    "\n",
    "def is_language(sequence):\n",
    "        counts = {'a': 0, 'b': 0, 'c': 0}\n",
    "\n",
    "        if not sequence[0]  == 'a':\n",
    "            return 0\n",
    "        \n",
    "        \n",
    "\n",
    "        for char in sequence:\n",
    "            \n",
    "            counts[char] += 1\n",
    "        \n",
    "        \n",
    "\n",
    "        return counts['a'] == counts['b'] == counts['c']"
   ]
  }
 ],
 "metadata": {
  "kernelspec": {
   "display_name": "Python 3.9.13 ('base')",
   "language": "python",
   "name": "python3"
  },
  "language_info": {
   "codemirror_mode": {
    "name": "ipython",
    "version": 3
   },
   "file_extension": ".py",
   "mimetype": "text/x-python",
   "name": "python",
   "nbconvert_exporter": "python",
   "pygments_lexer": "ipython3",
   "version": "3.9.13"
  },
  "vscode": {
   "interpreter": {
    "hash": "5752aa9ab330d3759c83a1b34e6976ab41b98e9e7a9be5fc074dbcab196bea16"
   }
  }
 },
 "nbformat": 4,
 "nbformat_minor": 2
}
