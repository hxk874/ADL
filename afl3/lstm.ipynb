{
 "cells": [
  {
   "cell_type": "code",
   "execution_count": 1,
   "metadata": {},
   "outputs": [],
   "source": [
    "import torch\n",
    "import torch.nn as nn\n",
    "import torch.optim as optim\n",
    "from torch.utils.data import Dataset, DataLoader, random_split\n",
    "\n",
    "import numpy as np\n",
    "\n",
    "import matplotlib.pyplot as plt\n",
    "from sklearn.metrics import accuracy_score, f1_score"
   ]
  },
  {
   "cell_type": "markdown",
   "metadata": {},
   "source": [
    "## Language dataset"
   ]
  },
  {
   "cell_type": "code",
   "execution_count": 2,
   "metadata": {},
   "outputs": [],
   "source": [
    "class LanguageDataset(Dataset):\n",
    "    def __init__(self, min_length, max_length, p, num_samples):\n",
    "        self.min_length = min_length\n",
    "        self.max_length = max_length\n",
    "        self.p = p\n",
    "        self.num_samples = num_samples\n",
    "        self.samples = self.generate_samples()\n",
    "    \n",
    "    def generate_samples(self):\n",
    "        samples = []\n",
    "        for _ in range(self.num_samples):\n",
    "            length = np.random.randint(self.min_length, self.max_length + 1)\n",
    "            if np.random.rand() < self.p:\n",
    "                n = length // 3\n",
    "                sequence = 'a' * n + 'b' * n + 'c' * n\n",
    "            else:\n",
    "                # Generate an invalid sequence\n",
    "                sequence = self.generate_invalid_sequence(length)\n",
    "            samples.append((sequence, int(self.is_language(sequence))))\n",
    "        return samples\n",
    "    \n",
    "    def generate_invalid_sequence(self, length):\n",
    "        sequence = ''.join(np.random.choice(['a', 'b', 'c'], size=length))\n",
    "        while self.is_language(sequence):\n",
    "            sequence = ''.join(np.random.choice(['a', 'b', 'c'], size=length))\n",
    "        return sequence\n",
    "    \n",
    "    def is_language(self, sequence):\n",
    "        counts = {'a': 0, 'b': 0, 'c': 0}\n",
    "        for char in sequence:\n",
    "            counts[char] += 1\n",
    "        return counts['a'] == counts['b'] == counts['c']\n",
    "    \n",
    "    def __len__(self):\n",
    "        return len(self.samples)\n",
    "    \n",
    "    def __getitem__(self, idx):\n",
    "        sequence, label = self.samples[idx]\n",
    "        indices = torch.tensor([ord(c) - ord('a') for c in sequence], dtype=torch.long)\n",
    "        one_hot_sequence = torch.nn.functional.one_hot(indices, num_classes=3).float()\n",
    "        return one_hot_sequence, torch.tensor(label)\n",
    "\n",
    "def collate_fn(batch):\n",
    "    sequences, labels = zip(*batch)\n",
    "    sequences_padded = torch.nn.utils.rnn.pad_sequence(sequences, batch_first=True)\n",
    "    labels = torch.stack(labels)\n",
    "    return sequences_padded, labels\n",
    "\n",
    "\n",
    "def generate_data(min_length, max_length, p, num_samples, batch_size=32):\n",
    "    dataset = LanguageDataset(min_length, max_length, p, num_samples)\n",
    "    data_loader = DataLoader(dataset, batch_size=batch_size, shuffle=True, collate_fn=collate_fn)\n",
    "    return data_loader"
   ]
  },
  {
   "cell_type": "markdown",
   "metadata": {},
   "source": [
    "## Model definition"
   ]
  },
  {
   "cell_type": "code",
   "execution_count": 3,
   "metadata": {},
   "outputs": [],
   "source": [
    "class LSTM(nn.Module):\n",
    "    '''\n",
    "    Args:\n",
    "    \n",
    "    Returns:\n",
    "    '''\n",
    "    def __init__(self, input_size, hidden_size, output_size, n_layers=1):\n",
    "        super(LSTM, self).__init__()\n",
    "        self.hidden_size = hidden_size\n",
    "        self.n_layers = n_layers\n",
    "        self.lstm = nn.LSTM(input_size, hidden_size, n_layers, batch_first=True)\n",
    "        self.fc = nn.Linear(hidden_size, output_size)\n",
    "\n",
    "    def forward(self, input, hidden=None):\n",
    "        if hidden is None:\n",
    "            hidden = self.init_hidden(input.size(0))\n",
    "        output, (hidden, cell) = self.lstm(input, hidden)\n",
    "        output = self.fc(output[:, -1, :])  # Use the output of the last time step\n",
    "        return output\n",
    "\n",
    "    def init_hidden(self, batch_size):\n",
    "        return (torch.zeros(self.n_layers, batch_size, self.hidden_size),\n",
    "                torch.zeros(self.n_layers, batch_size, self.hidden_size))"
   ]
  },
  {
   "cell_type": "markdown",
   "metadata": {},
   "source": [
    "## Training and evaluation functions"
   ]
  },
  {
   "cell_type": "code",
   "execution_count": 4,
   "metadata": {},
   "outputs": [],
   "source": [
    "def train_model(model, train_loader, val_loader, criterion, optimizer, num_epochs=10):\n",
    "    '''\n",
    "    Args:\n",
    "    \n",
    "    Returns:\n",
    "    '''\n",
    "    best_val_acc = 0\n",
    "    best_model = None\n",
    "    for epoch in range(num_epochs):\n",
    "        model.train()\n",
    "        for sequences, labels in train_loader:\n",
    "            optimizer.zero_grad()\n",
    "            hidden = model.init_hidden(sequences.size(0))\n",
    "            outputs = model(sequences, hidden)\n",
    "            loss = criterion(outputs, labels)\n",
    "            loss.backward()\n",
    "            optimizer.step()\n",
    "        \n",
    "        # Validation\n",
    "        model.eval()\n",
    "        correct = 0\n",
    "        total = 0\n",
    "        with torch.no_grad():\n",
    "            for sequences, labels in val_loader:\n",
    "                hidden = model.init_hidden(sequences.size(0))\n",
    "                outputs = model(sequences, hidden)\n",
    "                _, predicted = torch.max(outputs.data, 1)\n",
    "                total += labels.size(0)\n",
    "                correct += (predicted == labels).sum().item()\n",
    "        \n",
    "        val_acc = correct / total\n",
    "        if val_acc > best_val_acc:\n",
    "            best_val_acc = val_acc\n",
    "            best_model = model\n",
    "    return best_model, best_val_acc"
   ]
  },
  {
   "cell_type": "code",
   "execution_count": 5,
   "metadata": {},
   "outputs": [],
   "source": [
    "def eval_model(model, data_loader, criterion='accuracy'):\n",
    "    model.eval()  # Set model to eval mode\n",
    "    true_labels = []\n",
    "    pred_labels = []\n",
    "\n",
    "    with torch.no_grad():  # Deactivate gradients for the following code\n",
    "        for batch in data_loader:  # Iterate over batches\n",
    "            sequences, labels = batch  # Unpack the batch\n",
    "            hidden = model.init_hidden(sequences.size(0))\n",
    "            outputs = model(sequences, hidden)\n",
    "            _, predicted = torch.max(outputs.data, 1)\n",
    "            true_labels.extend(labels.cpu().numpy())\n",
    "            pred_labels.extend(predicted.cpu().numpy())\n",
    "\n",
    "    if criterion == 'accuracy':\n",
    "        return accuracy_score(true_labels, pred_labels)\n",
    "    elif criterion == 'f1':\n",
    "        return f1_score(true_labels, pred_labels)\n",
    "    else:\n",
    "        raise ValueError(\"Invalid criterion. Choose 'accuracy' or 'f1'.\")"
   ]
  },
  {
   "cell_type": "markdown",
   "metadata": {},
   "source": [
    "### Generate data"
   ]
  },
  {
   "cell_type": "code",
   "execution_count": 6,
   "metadata": {},
   "outputs": [],
   "source": [
    "# After generating the data loader, split it into train and validation sets\n",
    "data_loader = generate_data(1, 20, 0.5, 1000, 32)\n",
    "\n",
    "train_size = int(0.7 * len(data_loader.dataset))\n",
    "train_data, val_data = random_split(data_loader.dataset, [train_size, len(data_loader.dataset) - train_size])\n",
    "\n",
    "test_data = generate_data(21, 100, 0.5, 1000, 32).dataset\n",
    "\n",
    "# Create separate data loaders for train, validation, and test sets\n",
    "train_loader = DataLoader(train_data, batch_size=32, shuffle=True, collate_fn=collate_fn)\n",
    "val_loader = DataLoader(val_data, batch_size=32, shuffle=False, collate_fn=collate_fn)\n",
    "test_loader = DataLoader(test_data, batch_size=32, shuffle=False, collate_fn=collate_fn)\n"
   ]
  },
  {
   "cell_type": "markdown",
   "metadata": {},
   "source": [
    "## Hyperparameter tuning"
   ]
  },
  {
   "cell_type": "code",
   "execution_count": 7,
   "metadata": {},
   "outputs": [
    {
     "name": "stdout",
     "output_type": "stream",
     "text": [
      "Best validation accuracy: 0.993\n"
     ]
    }
   ],
   "source": [
    "input_size = 3  # 'a', 'b', 'c'\n",
    "output_size = 2  # 0 or 1\n",
    "hidden_sizes = [16, 32, 64]\n",
    "learning_rates = [0.001, 0.01, 0.1]\n",
    "\n",
    "best_val_acc = 0\n",
    "best_model = None\n",
    "\n",
    "for hidden_size in hidden_sizes:\n",
    "    for lr in learning_rates:\n",
    "        model = LSTM(input_size, hidden_size, output_size)\n",
    "        criterion = nn.CrossEntropyLoss()\n",
    "        optimizer = optim.Adam(model.parameters(), lr=lr)\n",
    "        \n",
    "        model, val_acc = train_model(model, train_loader, val_loader, criterion, optimizer, num_epochs=10)\n",
    "        \n",
    "        if val_acc > best_val_acc:\n",
    "            best_val_acc = val_acc\n",
    "            best_model = model\n",
    "\n",
    "print(f'Best validation accuracy: {np.round(best_val_acc,3)}')"
   ]
  },
  {
   "cell_type": "markdown",
   "metadata": {},
   "source": [
    "## Evaluation"
   ]
  },
  {
   "cell_type": "code",
   "execution_count": 8,
   "metadata": {},
   "outputs": [
    {
     "name": "stdout",
     "output_type": "stream",
     "text": [
      "Validation Accuracy: 0.983\n",
      "Validation F1 Score: 0.983\n",
      "Test Accuracy: 0.49\n",
      "Test F1 Score: 0.0\n"
     ]
    }
   ],
   "source": [
    "# Evaluate the model on the validation set\n",
    "val_accuracy = eval_model(best_model, val_loader, criterion='accuracy')\n",
    "val_f1_score = eval_model(best_model, val_loader, criterion='f1')\n",
    "\n",
    "print(f'Validation Accuracy: {np.round(val_accuracy,3)}')\n",
    "print(f'Validation F1 Score: {np.round(val_f1_score,3)}')\n",
    "\n",
    "# Evaluate the model on the test set\n",
    "test_accuracy = eval_model(best_model, test_loader, criterion='accuracy')\n",
    "test_f1_score = eval_model(best_model, test_loader, criterion='f1')\n",
    "\n",
    "print(f'Test Accuracy: {np.round(test_accuracy,3)}')\n",
    "print(f'Test F1 Score: {np.round(test_f1_score,3)}')\n"
   ]
  },
  {
   "cell_type": "markdown",
   "metadata": {},
   "source": [
    "## Plot results"
   ]
  },
  {
   "cell_type": "code",
   "execution_count": 9,
   "metadata": {},
   "outputs": [
    {
     "data": {
      "image/png": "[encoded data removed]",
      "text/plain": [
       "<Figure size 1000x600 with 1 Axes>"
      ]
     },
     "metadata": {},
     "output_type": "display_data"
    }
   ],
   "source": [
    "# Initialize lists to store performance metrics\n",
    "accuracy_per_length = []\n",
    "f1_score_per_length = []\n",
    "\n",
    "# Evaluate the model on sequences of lengths ranging from 21 to 100\n",
    "for length in range(21, 101):\n",
    "    test_data = generate_data(length, length, 0.5, 1000, 32).dataset\n",
    "    test_loader = DataLoader(test_data, batch_size=32, shuffle=False, collate_fn=collate_fn)\n",
    "    \n",
    "    # Evaluate the model on the test set\n",
    "    test_accuracy = eval_model(best_model, test_loader, criterion='accuracy')\n",
    "    test_f1_score = eval_model(best_model, test_loader, criterion='f1')\n",
    "    \n",
    "    accuracy_per_length.append(test_accuracy)\n",
    "    f1_score_per_length.append(test_f1_score)\n",
    "\n",
    "# Plot performance over sentence length\n",
    "plt.figure(figsize=(10, 6))\n",
    "plt.plot(range(21, 101), accuracy_per_length, label='Accuracy')\n",
    "plt.plot(range(21, 101), f1_score_per_length, label='F1 Score')\n",
    "plt.xlabel('Sequence Length')\n",
    "plt.ylabel('Performance')\n",
    "plt.title('Performance of RNN on Sequences of Different Lengths')\n",
    "plt.legend()\n",
    "plt.grid(True)\n",
    "plt.show()"
   ]
  }
 ],
 "metadata": {
  "kernelspec": {
   "display_name": "base",
   "language": "python",
   "name": "python3"
  },
  "language_info": {
   "codemirror_mode": {
    "name": "ipython",
    "version": 3
   },
   "file_extension": ".py",
   "mimetype": "text/x-python",
   "name": "python",
   "nbconvert_exporter": "python",
   "pygments_lexer": "ipython3",
   "version": "3.10.9"
  }
 },
 "nbformat": 4,
 "nbformat_minor": 2
}
