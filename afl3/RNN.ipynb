{
 "cells": [
  {
   "cell_type": "code",
   "execution_count": 1,
   "metadata": {},
   "outputs": [],
   "source": [
    "import torch\n",
    "import torch.nn as nn\n",
    "from torch.utils.data import Dataset, DataLoader, random_split\n",
    "import torch.optim as optim\n",
    "import numpy as np\n",
    "import torch"
   ]
  },
  {
   "cell_type": "markdown",
   "metadata": {},
   "source": [
    "# Generate data"
   ]
  },
  {
   "cell_type": "code",
   "execution_count": null,
   "metadata": {},
   "outputs": [],
   "source": [
    "class LanguageDataset(Dataset):\n",
    "    def __init__(self, max_length, p, num_samples):\n",
    "        self.max_length = max_length\n",
    "        self.p = p\n",
    "        self.num_samples = num_samples\n",
    "        self.samples = self.generate_samples()\n",
    "    \n",
    "    def generate_samples(self):\n",
    "        samples = []\n",
    "        for _ in range(self.num_samples):\n",
    "            length = np.random.randint(1, self.max_length + 1)\n",
    "            if np.random.rand() < self.p:\n",
    "                n = length // 3\n",
    "                sequence = 'a' * n + 'b' * n + 'c' * n\n",
    "            else:\n",
    "                sequence = ''.join(np.random.choice(['a', 'b', 'c'], size=length))\n",
    "            samples.append((sequence, int(self.is_language(sequence))))\n",
    "        return samples\n",
    "    \n",
    "    def is_language(self, sequence):\n",
    "        counts = {'a': 0, 'b': 0, 'c': 0}\n",
    "        for char in sequence:\n",
    "            counts[char] += 1\n",
    "        return counts['a'] == counts['b'] == counts['c']\n",
    "    \n",
    "    def __len__(self):\n",
    "        return len(self.samples)\n",
    "    \n",
    "    def __getitem__(self, idx):\n",
    "        sequence, label = self.samples[idx]\n",
    "        one_hot_sequence = torch.nn.functional.one_hot(torch.tensor([ord(c) - ord('a') for c in sequence]), num_classes=3).float()\n",
    "        return one_hot_sequence, torch.tensor(label)\n",
    "\n",
    "def generate_data(max_length, p, num_samples, batch_size=32):\n",
    "    dataset = LanguageDataset(max_length, p, num_samples)\n",
    "    train_size = int(0.7 * len(dataset))\n",
    "    val_size = int(0.15 * len(dataset))\n",
    "    test_size = len(dataset) - train_size - val_size\n",
    "    train_dataset, val_dataset, test_dataset = random_split(dataset, [train_size, val_size, test_size])\n",
    "    \n",
    "    train_loader = DataLoader(train_dataset, batch_size=batch_size, shuffle=True)\n",
    "    val_loader = DataLoader(val_dataset, batch_size=batch_size, shuffle=False)\n",
    "    test_loader = DataLoader(test_dataset, batch_size=batch_size, shuffle=False)\n",
    "    \n",
    "    return train_loader, val_loader, test_loader\n"
   ]
  },
  {
   "cell_type": "markdown",
   "metadata": {},
   "source": [
    "# Define RNN"
   ]
  },
  {
   "cell_type": "code",
   "execution_count": null,
   "metadata": {},
   "outputs": [],
   "source": [
    "class RNNCell(nn.Module):\n",
    "    def __init__(self, input_size, hidden_size):\n",
    "        super(RNNCell, self).__init__()\n",
    "        self.input_size = input_size\n",
    "        self.hidden_size = hidden_size\n",
    "        self.i2h = nn.Linear(input_size + hidden_size, hidden_size)\n",
    "        self.h2o = nn.Linear(hidden_size, hidden_size)\n",
    "\n",
    "    def forward(self, input, hidden):\n",
    "        combined = torch.cat((input, hidden), 1)\n",
    "        hidden = torch.tanh(self.i2h(combined))\n",
    "        output = self.h2o(hidden)\n",
    "        return output, hidden\n",
    "\n",
    "class RNN(nn.Module):\n",
    "    def __init__(self, input_size, hidden_size, output_size, n_layers=1):\n",
    "        super(RNN, self).__init__()\n",
    "        self.hidden_size = hidden_size\n",
    "        self.n_layers = n_layers\n",
    "        self.RNN_layers = nn.ModuleList([RNNCell(input_size, hidden_size) for _ in range(n_layers)])\n",
    "        self.fc = nn.Linear(hidden_size, output_size)\n",
    "\n",
    "    def forward(self, input, hidden=None):\n",
    "        if hidden is None:\n",
    "            hidden = self.init_hidden(input.size(0))\n",
    "        outputs = []\n",
    "        for layer_idx in range(self.n_layers):\n",
    "            layer_outputs = []\n",
    "            for input_idx in range(input.size(1)):\n",
    "                x = input[:, input_idx, :]\n",
    "                output, hidden[layer_idx] = self.RNN_layers[layer_idx](x, hidden[layer_idx])\n",
    "                layer_outputs.append(output)\n",
    "            outputs.append(torch.stack(layer_outputs, dim=1))\n",
    "            input = outputs[-1]\n",
    "        output = self.fc(outputs[-1][:, -1, :])\n",
    "        return output\n",
    "\n",
    "    def init_hidden(self, batch_size):\n",
    "        return [torch.zeros(batch_size, self.hidden_size) for _ in range(self.n_layers)]\n"
   ]
  },
  {
   "cell_type": "markdown",
   "metadata": {},
   "source": [
    "# Define training"
   ]
  },
  {
   "cell_type": "code",
   "execution_count": null,
   "metadata": {},
   "outputs": [],
   "source": [
    "def train_model(model, train_loader, val_loader, criterion, optimizer, num_epochs=10):\n",
    "    best_val_acc = 0\n",
    "    best_model = None\n",
    "    for epoch in range(num_epochs):\n",
    "        model.train()\n",
    "        for sequences, labels in train_loader:\n",
    "            optimizer.zero_grad()\n",
    "            hidden = model.init_hidden(sequences.size(0))\n",
    "            outputs = model(sequences, hidden)\n",
    "            loss = criterion(outputs, labels)\n",
    "            loss.backward()\n",
    "            optimizer.step()\n",
    "        \n",
    "        # Validation\n",
    "        model.eval()\n",
    "        correct = 0\n",
    "        total = 0\n",
    "        with torch.no_grad():\n",
    "            for sequences, labels in val_loader:\n",
    "                hidden = model.init_hidden(sequences.size(0))\n",
    "                outputs = model(sequences, hidden)\n",
    "                _, predicted = torch.max(outputs.data, 1)\n",
    "                total += labels.size(0)\n",
    "                correct += (predicted == labels).sum().item()\n",
    "        \n",
    "        val_acc = correct / total\n",
    "        if val_acc > best_val_acc:\n",
    "            best_val_acc = val_acc\n",
    "            best_model = model\n",
    "    return best_model, best_val_acc"
   ]
  },
  {
   "cell_type": "code",
   "execution_count": null,
   "metadata": {},
   "outputs": [],
   "source": [
    "# Hyper-parameter search\n",
    "input_size = 3  # 'a', 'b', 'c'\n",
    "output_size = 2  # 0 or 1\n",
    "hidden_sizes = [16, 32, 64]\n",
    "learning_rates = [0.001, 0.01, 0.1]\n",
    "best_val_acc = 0\n",
    "best_model = None\n",
    "\n",
    "train_loader, val_loader, test_loader = generate_data(20, 0.5, 1000, 32)\n",
    "\n",
    "for hidden_size in hidden_sizes:\n",
    "    for lr in learning_rates:\n",
    "        model = RNN(input_size, hidden_size, output_size)\n",
    "        criterion = nn.CrossEntropyLoss()\n",
    "        optimizer = optim.Adam(model.parameters(), lr=lr)\n",
    "        \n",
    "        model, val_acc = train_model(model, train_loader, val_loader, criterion, optimizer, num_epochs=10)\n",
    "        \n",
    "        if val_acc > best_val_acc:\n",
    "            best_val_acc = val_acc\n",
    "            best_model = model\n",
    "\n",
    "print(f'Best validation accuracy: {best_val_acc}')"
   ]
  }
 ],
 "metadata": {
  "kernelspec": {
   "display_name": "Python 3.9.13 ('base')",
   "language": "python",
   "name": "python3"
  },
  "language_info": {
   "codemirror_mode": {
    "name": "ipython",
    "version": 3
   },
   "file_extension": ".py",
   "mimetype": "text/x-python",
   "name": "python",
   "nbconvert_exporter": "python",
   "pygments_lexer": "ipython3",
   "version": "3.9.13"
  },
  "orig_nbformat": 4,
  "vscode": {
   "interpreter": {
    "hash": "5752aa9ab330d3759c83a1b34e6976ab41b98e9e7a9be5fc074dbcab196bea16"
   }
  }
 },
 "nbformat": 4,
 "nbformat_minor": 2
}
