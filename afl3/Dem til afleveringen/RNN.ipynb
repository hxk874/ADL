{
 "cells": [
  {
   "cell_type": "code",
   "execution_count": 44,
   "metadata": {},
   "outputs": [],
   "source": [
    "import torch\n",
    "import torch.nn as nn\n",
    "import torch.optim as optim\n",
    "from torch.utils.data import Dataset, DataLoader, random_split\n",
    "\n",
    "import numpy as np\n",
    "\n",
    "import matplotlib.pyplot as plt\n",
    "from sklearn.metrics import accuracy_score, f1_score\n"
   ]
  },
  {
   "cell_type": "markdown",
   "metadata": {},
   "source": [
    "## Language dataset"
   ]
  },
  {
   "cell_type": "code",
   "execution_count": 45,
   "metadata": {},
   "outputs": [],
   "source": [
    "class LanguageDataset(Dataset):\n",
    "    '''\n",
    "    Args:\n",
    "    - min_length (int):  minimum length of the generated sequences\n",
    "    - max_length (int):  maximum length of the generated sequences\n",
    "    - p (float):         probability of generating a valid sequence\n",
    "    - num_samples (int): number of samples to generate\n",
    "    \n",
    "    Returns:\n",
    "    list of tuples (sequence, label) where sequence is a one-hot encoded tensor and label is 0 or 1.\n",
    "    '''\n",
    "    def __init__(self, min_length, max_length, p, num_samples):\n",
    "        self.min_length = min_length\n",
    "        self.max_length = max_length\n",
    "        self.p = p\n",
    "        self.num_samples = num_samples\n",
    "        self.samples = self.generate_samples()\n",
    "        self.avg_len = self.average_length(self.samples)\n",
    "    \n",
    "    def generate_samples(self):\n",
    "        samples = []\n",
    "        for _ in range(self.num_samples):\n",
    "            length = np.random.randint(self.min_length, self.max_length + 1)\n",
    "            if np.random.rand() < self.p:\n",
    "                n = length // 3\n",
    "                sequence = 'a' * n + 'b' * n + 'c' * n\n",
    "            else:\n",
    "                # Generate an invalid sequence\n",
    "                sequence = self.generate_invalid_sequence(length)\n",
    "            samples.append((sequence, int(self.is_language(sequence))))\n",
    "        samples_no_duplicates = list(set(samples)) # Remove duplicates\n",
    "        return samples_no_duplicates\n",
    "\n",
    "    \n",
    "    def generate_invalid_sequence(self, length):\n",
    "        sequence = ''.join(np.random.choice(['a', 'b', 'c'], size=length))\n",
    "        while self.is_language(sequence):\n",
    "            sequence = ''.join(np.random.choice(['a', 'b', 'c'], size=length))\n",
    "        return sequence\n",
    "    \n",
    "    def is_language(self, sequence):\n",
    "        length = len(sequence)\n",
    "        if length % 3 != 0:\n",
    "            return False\n",
    "        \n",
    "        # calculate n\n",
    "        n = length // 3\n",
    "\n",
    "        if sequence[:n] == 'a' * n and sequence[n:2*n] == 'b' * n and sequence[2*n:] == 'c' * n:\n",
    "            return True\n",
    "        \n",
    "        return False\n",
    "    \n",
    "    def average_length(self, samples):\n",
    "        return np.mean([len(sequence) for sequence, _ in self.samples])\n",
    "    \n",
    "    def __len__(self):\n",
    "        return len(self.samples)\n",
    "    \n",
    "    def __getitem__(self, idx):\n",
    "        sequence, label = self.samples[idx]\n",
    "        indices = torch.tensor([ord(c) - ord('a') for c in sequence], dtype=torch.long)\n",
    "        one_hot_sequence = torch.nn.functional.one_hot(indices, num_classes=3).float()\n",
    "        return one_hot_sequence, torch.tensor(label)\n",
    "\n",
    "def collate_fn(batch):\n",
    "    '''\n",
    "    Args:\n",
    "    \n",
    "    Returns:\n",
    "    '''\n",
    "    sequences, labels = zip(*batch)\n",
    "    sequences_padded = torch.nn.utils.rnn.pad_sequence(sequences, batch_first=True)\n",
    "    labels = torch.stack(labels)\n",
    "    return sequences_padded, labels\n",
    "\n",
    "\n",
    "def generate_data(min_length, max_length, p, num_samples, batch_size=32):\n",
    "    '''\n",
    "    Args:\n",
    "    \n",
    "    Returns:\n",
    "    '''\n",
    "    dataset = LanguageDataset(min_length, max_length, p, num_samples)\n",
    "    data_loader = DataLoader(dataset, batch_size=batch_size, shuffle=True, collate_fn=collate_fn)\n",
    "    return data_loader"
   ]
  },
  {
   "cell_type": "markdown",
   "metadata": {},
   "source": [
    "## Model definition"
   ]
  },
  {
   "cell_type": "code",
   "execution_count": 46,
   "metadata": {},
   "outputs": [],
   "source": [
    "class RNNCell(nn.Module):\n",
    "    '''\n",
    "    Args:\n",
    "    - input_size (int):  size of the input\n",
    "    - hidden_size (int): size of the hidden state\n",
    "    \n",
    "    Returns:\n",
    "\n",
    "    '''\n",
    "    def __init__(self, input_size, hidden_size):\n",
    "        super(RNNCell, self).__init__()\n",
    "        self.input_size = input_size\n",
    "        self.hidden_size = hidden_size\n",
    "        self.i2h = nn.Linear(input_size + hidden_size, hidden_size)\n",
    "        self.h2o = nn.Linear(hidden_size, hidden_size)\n",
    "\n",
    "    def forward(self, input, hidden):\n",
    "        combined = torch.cat((input, hidden), 1)\n",
    "        hidden = torch.tanh(self.i2h(combined))\n",
    "        output = self.h2o(hidden)\n",
    "        return output, hidden\n",
    "\n",
    "class RNN(nn.Module):\n",
    "    '''\n",
    "    Args:\n",
    "    - input_size (int):  size of the input\n",
    "    - hidden_size (int): size of the hidden state\n",
    "    - output_size (int): size of the output\n",
    "    - n_layers (int):    number of RNN layers\n",
    "    \n",
    "    Returns:\n",
    "    The predicted output. \n",
    "    '''\n",
    "    def __init__(self, input_size, hidden_size, output_size, n_layers=1):\n",
    "        super(RNN, self).__init__()\n",
    "        self.hidden_size = hidden_size\n",
    "        self.n_layers = n_layers\n",
    "        self.RNN_layers = nn.ModuleList([RNNCell(input_size, hidden_size) for _ in range(n_layers)])\n",
    "        self.fc = nn.Linear(hidden_size, output_size)\n",
    "\n",
    "    def forward(self, input, hidden=None):\n",
    "        if hidden is None:\n",
    "            hidden = self.init_hidden(input.size(0))\n",
    "        outputs = []\n",
    "        for layer_idx in range(self.n_layers):\n",
    "            layer_outputs = []\n",
    "            for input_idx in range(input.size(1)):\n",
    "                x = input[:, input_idx, :]\n",
    "                output, hidden[layer_idx] = self.RNN_layers[layer_idx](x, hidden[layer_idx])\n",
    "                layer_outputs.append(output)\n",
    "            outputs.append(torch.stack(layer_outputs, dim=1))\n",
    "            input = outputs[-1]\n",
    "        output = self.fc(outputs[-1][:, -1, :])\n",
    "        return output\n",
    "\n",
    "    def init_hidden(self, batch_size):\n",
    "        return [torch.zeros(batch_size, self.hidden_size) for _ in range(self.n_layers)]\n"
   ]
  },
  {
   "cell_type": "markdown",
   "metadata": {},
   "source": [
    "## Training and evaluation functions"
   ]
  },
  {
   "cell_type": "code",
   "execution_count": 47,
   "metadata": {},
   "outputs": [],
   "source": [
    "def train_model(model, train_loader, val_loader, criterion, optimizer, num_epochs=10):\n",
    "    '''\n",
    "    Args:\n",
    "    - model (nn.Module):         The model to train\n",
    "    - train_loader (DataLoader): The DataLoader for the training data\n",
    "    - val_loader (DataLoader):   The DataLoader for the validation data\n",
    "    - criterion (nn.Module):     The loss function\n",
    "    - optimizer (torch.optim):   The optimizer\n",
    "    - num_epochs (int):          The number of epochs to train\n",
    "    \n",
    "    Returns:\n",
    "    The best model found during training with the corresponding best validation accuracy obtained.\n",
    "    '''\n",
    "    best_val_acc = 0\n",
    "    best_model = None\n",
    "    for epoch in range(num_epochs):\n",
    "        model.train()\n",
    "        for sequences, labels in train_loader:\n",
    "            optimizer.zero_grad()\n",
    "            hidden = model.init_hidden(sequences.size(0))\n",
    "            outputs = model(sequences, hidden)\n",
    "            loss = criterion(outputs, labels)\n",
    "            loss.backward()\n",
    "            optimizer.step()\n",
    "        \n",
    "        # Validation\n",
    "        model.eval()\n",
    "        correct = 0\n",
    "        total = 0\n",
    "        with torch.no_grad():\n",
    "            for sequences, labels in val_loader:\n",
    "                hidden = model.init_hidden(sequences.size(0))\n",
    "                outputs = model(sequences, hidden)\n",
    "                _, predicted = torch.max(outputs.data, 1)\n",
    "                total += labels.size(0)\n",
    "                correct += (predicted == labels).sum().item()\n",
    "        \n",
    "        val_acc = correct / total\n",
    "        if val_acc > best_val_acc:\n",
    "            best_val_acc = val_acc\n",
    "            best_model = model\n",
    "    return best_model, best_val_acc\n"
   ]
  },
  {
   "cell_type": "code",
   "execution_count": 48,
   "metadata": {},
   "outputs": [],
   "source": [
    "def eval_model(model, data_loader, criterion='accuracy'):\n",
    "    '''\n",
    "    Args:\n",
    "    - model (nn.Module):        The trained model\n",
    "    - data_loader (DataLoader): The DataLoader for the evaluation data\n",
    "    - criterion (str):          The evaluation criterion ('accuracy' or 'f1')\n",
    "\n",
    "    Returns:\n",
    "    The evaluation score (accuracy or F1) of the model on the evaluation data.\n",
    "    '''\n",
    "    model.eval()  # Set model to eval mode\n",
    "    true_labels = []\n",
    "    pred_labels = []\n",
    "\n",
    "    with torch.no_grad():  # Deactivate gradients for the following code\n",
    "        for batch in data_loader:  # Iterate over batches\n",
    "            sequences, labels = batch  # Unpack the batch\n",
    "            outputs = model(sequences)\n",
    "            _, predicted = torch.max(outputs.data, 1)\n",
    "            true_labels.extend(labels.cpu().numpy())\n",
    "            pred_labels.extend(predicted.cpu().numpy())\n",
    "\n",
    "    if criterion == 'accuracy':\n",
    "        return accuracy_score(true_labels, pred_labels)\n",
    "    elif criterion == 'f1':\n",
    "        return f1_score(true_labels, pred_labels)\n",
    "    else:\n",
    "        raise ValueError(\"Invalid criterion. Choose 'accuracy' or 'f1'.\")\n",
    "\n"
   ]
  },
  {
   "cell_type": "markdown",
   "metadata": {},
   "source": [
    "### Generate data"
   ]
  },
  {
   "cell_type": "code",
   "execution_count": 49,
   "metadata": {},
   "outputs": [
    {
     "name": "stdout",
     "output_type": "stream",
     "text": [
      "322 139\n"
     ]
    }
   ],
   "source": [
    "# After generating the data loader, split it into train, validation, and test sets\n",
    "train_data_loader = generate_data(1, 20, 0.5, 1000, 32)\n",
    "\n",
    "train_size = int(0.7 * len(train_data_loader.dataset))\n",
    "train_data, val_data = random_split(train_data_loader.dataset, [train_size, len(train_data_loader.dataset) - train_size])\n",
    "print(len(train_data), len(val_data))\n",
    "\n",
    "test_data = generate_data(21, 100, 0.5, 1000, 32).dataset\n",
    "\n",
    "# Create separate data loaders for train, validation, and test sets\n",
    "train_loader = DataLoader(train_data, batch_size=32, shuffle=True, collate_fn=collate_fn)\n",
    "val_loader = DataLoader(val_data, batch_size=32, shuffle=False, collate_fn=collate_fn)\n",
    "test_loader = DataLoader(test_data, batch_size=32, shuffle=False, collate_fn=collate_fn)"
   ]
  },
  {
   "cell_type": "code",
   "execution_count": 50,
   "metadata": {},
   "outputs": [],
   "source": [
    "labels = [label for _, label in train_loader.dataset]\n",
    "class_counts = np.bincount(labels)\n",
    "class_weights = 1.0 / class_counts\n",
    "\n",
    "weights = [class_weights[label] for label in labels]\n",
    "weights = torch.tensor(weights, dtype=torch.float)\n",
    "sampler = torch.utils.data.WeightedRandomSampler(weights, len(weights))\n",
    "\n",
    "#train_loader = DataLoader(train_data, batch_size=32, sampler=sampler, collate_fn=collate_fn)"
   ]
  },
  {
   "cell_type": "markdown",
   "metadata": {},
   "source": [
    "## Hyperparameter tuning"
   ]
  },
  {
   "cell_type": "code",
   "execution_count": 51,
   "metadata": {},
   "outputs": [
    {
     "name": "stdout",
     "output_type": "stream",
     "text": [
      "Best validation accuracy: 0.978\n",
      "RNN(\n",
      "  (RNN_layers): ModuleList(\n",
      "    (0): RNNCell(\n",
      "      (i2h): Linear(in_features=19, out_features=16, bias=True)\n",
      "      (h2o): Linear(in_features=16, out_features=16, bias=True)\n",
      "    )\n",
      "  )\n",
      "  (fc): Linear(in_features=16, out_features=2, bias=True)\n",
      ")\n"
     ]
    }
   ],
   "source": [
    "input_size = 3  # 'a', 'b', 'c'\n",
    "output_size = 2  # 0 or 1\n",
    "hidden_sizes = [16, 32, 64]\n",
    "learning_rates = [0.001, 0.01, 0.1]\n",
    "\n",
    "best_val_acc = 0\n",
    "best_model = None\n",
    "\n",
    "for hidden_size in hidden_sizes:\n",
    "    for lr in learning_rates:\n",
    "        model = RNN(input_size, hidden_size, output_size)\n",
    "        criterion = nn.CrossEntropyLoss()\n",
    "        #criterion = nn.CrossEntropyLoss(weight=torch.tensor(class_weights, dtype=torch.float))\n",
    "        optimizer = optim.Adam(model.parameters(), lr=lr)\n",
    "        \n",
    "        model, val_acc = train_model(model, train_loader, val_loader, criterion, optimizer, num_epochs=10)\n",
    "        \n",
    "        if val_acc > best_val_acc:\n",
    "            best_val_acc = val_acc\n",
    "            best_model = model\n",
    "\n",
    "print(f'Best validation accuracy: {np.round(best_val_acc,3)}')\n",
    "print (best_model)"
   ]
  },
  {
   "cell_type": "markdown",
   "metadata": {},
   "source": [
    "## Evaluation"
   ]
  },
  {
   "cell_type": "code",
   "execution_count": 52,
   "metadata": {},
   "outputs": [
    {
     "name": "stdout",
     "output_type": "stream",
     "text": [
      "Validation Accuracy: 0.978\n",
      "Validation F1 Score: 0.0\n",
      "Test Accuracy: 0.947\n",
      "Test F1 Score: 0.0\n"
     ]
    }
   ],
   "source": [
    "# Evaluate the model on the validation set\n",
    "val_accuracy = eval_model(best_model, val_loader, criterion='accuracy')\n",
    "val_f1_score = eval_model(best_model, val_loader, criterion='f1')\n",
    "\n",
    "print(f'Validation Accuracy: {np.round(val_accuracy,3)}')\n",
    "print(f'Validation F1 Score: {np.round(val_f1_score,3)}')\n",
    "\n",
    "# Evaluate the model on the test set\n",
    "test_accuracy = eval_model(best_model, test_loader, criterion='accuracy')\n",
    "test_f1_score = eval_model(best_model, test_loader, criterion='f1')\n",
    "\n",
    "print(f'Test Accuracy: {np.round(test_accuracy,3)}')\n",
    "print(f'Test F1 Score: {np.round(test_f1_score,3)}')"
   ]
  },
  {
   "cell_type": "markdown",
   "metadata": {},
   "source": [
    "## Plot results"
   ]
  },
  {
   "cell_type": "code",
   "execution_count": 53,
   "metadata": {},
   "outputs": [],
   "source": [
    "# Initialize lists to store performance metrics\n",
    "accuracy_per_length = []\n",
    "f1_score_per_length = []\n",
    "\n",
    "# Evaluate the model on sequences of lengths ranging from 21 to 100\n",
    "for length in range(21, 101):\n",
    "    test_data = generate_data(length, length, 0.5, 1000, 32).dataset\n",
    "    test_loader = DataLoader(test_data, batch_size=32, shuffle=False, collate_fn=collate_fn)\n",
    "    \n",
    "    # Evaluate the model on the test set\n",
    "    test_accuracy = eval_model(best_model, test_loader, criterion='accuracy')\n",
    "    test_f1_score = eval_model(best_model, test_loader, criterion='f1')\n",
    "    \n",
    "    accuracy_per_length.append(test_accuracy)\n",
    "    f1_score_per_length.append(test_f1_score)"
   ]
  },
  {
   "cell_type": "markdown",
   "metadata": {},
   "source": [
    "## Plot results from RNN"
   ]
  },
  {
   "cell_type": "code",
   "execution_count": 54,
   "metadata": {},
   "outputs": [
    {
     "data": {
      "image/png": "[encoded data removed]",
      "text/plain": [
       "<Figure size 1400x600 with 1 Axes>"
      ]
     },
     "metadata": {},
     "output_type": "display_data"
    }
   ],
   "source": [
    "# Plot performance over sentence length\n",
    "plt.figure(figsize=(14, 6))\n",
    "plt.plot(range(21, 101), accuracy_per_length, label='Accuracy')\n",
    "plt.plot(range(21, 101), f1_score_per_length, label='F1 Score')\n",
    "plt.xlabel('Sequence Length', fontsize=12)\n",
    "plt.xticks(range(20, 100, 5))\n",
    "plt.xlim(20, 101)\n",
    "plt.ylabel('Performance', fontsize=12)\n",
    "plt.title('Performance of RNN on sequences of different lengths', fontsize=16)\n",
    "plt.legend()\n",
    "plt.grid(True)\n",
    "plt.show()\n"
   ]
  },
  {
   "cell_type": "code",
   "execution_count": 55,
   "metadata": {},
   "outputs": [],
   "source": [
    "accuracy_per_length_np = np.array(accuracy_per_length)\n",
    "np.savetxt('RNN_acc.csv', accuracy_per_length_np, delimiter=',')\n",
    "\n",
    "f1_score_per_length_np = np.array(f1_score_per_length)\n",
    "np.savetxt('RNN_f1.csv', f1_score_per_length_np, delimiter=',')"
   ]
  },
  {
   "cell_type": "code",
   "execution_count": 56,
   "metadata": {},
   "outputs": [
    {
     "name": "stdout",
     "output_type": "stream",
     "text": [
      "n=1, length=3\n",
      "n=2, length=6\n",
      "n=3, length=9\n",
      "n=4, length=12\n",
      "n=5, length=15\n",
      "n=6, length=18\n",
      "n=7, length=21\n",
      "n=8, length=24\n",
      "n=9, length=27\n",
      "n=10, length=30\n",
      "n=11, length=33\n",
      "n=12, length=36\n",
      "n=13, length=39\n",
      "n=14, length=42\n",
      "n=15, length=45\n",
      "n=16, length=48\n",
      "n=17, length=51\n",
      "n=18, length=54\n",
      "n=19, length=57\n",
      "n=20, length=60\n",
      "n=21, length=63\n",
      "n=22, length=66\n",
      "n=23, length=69\n",
      "n=24, length=72\n",
      "n=25, length=75\n",
      "n=26, length=78\n",
      "n=27, length=81\n",
      "n=28, length=84\n",
      "n=29, length=87\n",
      "n=30, length=90\n",
      "n=31, length=93\n",
      "n=32, length=96\n",
      "n=33, length=99\n"
     ]
    }
   ],
   "source": [
    "for i in range (1,101):\n",
    "    length = i*3\n",
    "    if length < 101:\n",
    "        print (f\"n={i}, length={length}\")"
   ]
  }
 ],
 "metadata": {
  "kernelspec": {
   "display_name": "Python 3.9.13 ('base')",
   "language": "python",
   "name": "python3"
  },
  "language_info": {
   "codemirror_mode": {
    "name": "ipython",
    "version": 3
   },
   "file_extension": ".py",
   "mimetype": "text/x-python",
   "name": "python",
   "nbconvert_exporter": "python",
   "pygments_lexer": "ipython3",
   "version": "3.9.13"
  },
  "vscode": {
   "interpreter": {
    "hash": "5752aa9ab330d3759c83a1b34e6976ab41b98e9e7a9be5fc074dbcab196bea16"
   }
  }
 },
 "nbformat": 4,
 "nbformat_minor": 2
}
