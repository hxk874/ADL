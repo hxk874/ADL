{
  "cells": [
    {
      "cell_type": "markdown",
      "id": "structured-tuning",
      "metadata": {
        "id": "structured-tuning"
      },
      "source": [
        "# PyTorch 2D convolutions\n",
        "#### Advanced Deep Learning, 2024"
      ]
    },
    {
      "cell_type": "markdown",
      "id": "ooBCszdvpKZs",
      "metadata": {
        "id": "ooBCszdvpKZs"
      },
      "source": [
        "## mount driver and establish workspace"
      ]
    },
    {
      "cell_type": "code",
      "execution_count": 2,
      "id": "F3LgNo85paJH",
      "metadata": {
        "id": "F3LgNo85paJH"
      },
      "outputs": [],
      "source": [
        "import os"
      ]
    },
    {
      "cell_type": "code",
      "execution_count": 3,
      "id": "realistic-banana",
      "metadata": {
        "id": "realistic-banana"
      },
      "outputs": [],
      "source": [
        "import torch\n",
        "import torch.nn as nn"
      ]
    },
    {
      "cell_type": "markdown",
      "id": "sized-craft",
      "metadata": {
        "id": "sized-craft"
      },
      "source": [
        "## One input channel, one output, no padding\n",
        "Let's define a `W`$\\times$`W` filter. For the following examples, we do not need a bias parameter."
      ]
    },
    {
      "cell_type": "code",
      "execution_count": 4,
      "id": "capital-granny",
      "metadata": {
        "id": "capital-granny"
      },
      "outputs": [
        {
          "name": "stdout",
          "output_type": "stream",
          "text": [
            "We just defined: Conv2d(1, 1, kernel_size=(3, 3), stride=(1, 1), bias=False)\n"
          ]
        }
      ],
      "source": [
        "W = 3 # size of convolution filter\n",
        "# 1 input (image) channel, 1 output channel, WxW convolution kernel\n",
        "conv = nn.Conv2d(1, 1, W, bias=False)\n",
        "print(\"We just defined:\", conv)"
      ]
    },
    {
      "cell_type": "markdown",
      "id": "virgin-throat",
      "metadata": {
        "id": "virgin-throat"
      },
      "source": [
        "Let's look at the kernel dimensions:"
      ]
    },
    {
      "cell_type": "code",
      "execution_count": 5,
      "id": "homeless-discovery",
      "metadata": {
        "id": "homeless-discovery",
        "scrolled": true
      },
      "outputs": [
        {
          "name": "stdout",
          "output_type": "stream",
          "text": [
            "torch.Size([1, 1, 3, 3])\n"
          ]
        }
      ],
      "source": [
        "# 1 output channel, 1 input channel, 1st dimension = W, 2nd dimension = W\n",
        "print(conv.weight.shape)"
      ]
    },
    {
      "cell_type": "markdown",
      "id": "ordered-working",
      "metadata": {
        "id": "ordered-working"
      },
      "source": [
        "The filter parameters are initialized randomly:"
      ]
    },
    {
      "cell_type": "code",
      "execution_count": 6,
      "id": "excess-pennsylvania",
      "metadata": {
        "id": "excess-pennsylvania"
      },
      "outputs": [
        {
          "name": "stdout",
          "output_type": "stream",
          "text": [
            "Parameter containing:\n",
            "tensor([[[[-0.2544, -0.0415,  0.3305],\n",
            "          [ 0.0182,  0.1216,  0.0556],\n",
            "          [-0.0222, -0.0012, -0.1553]]]], requires_grad=True)\n"
          ]
        }
      ],
      "source": [
        "print(conv.weight)"
      ]
    },
    {
      "cell_type": "markdown",
      "id": "lonely-monaco",
      "metadata": {
        "id": "lonely-monaco"
      },
      "source": [
        "We can set the parameters as follows:"
      ]
    },
    {
      "cell_type": "code",
      "execution_count": 7,
      "id": "ambient-sender",
      "metadata": {
        "id": "ambient-sender"
      },
      "outputs": [
        {
          "name": "stdout",
          "output_type": "stream",
          "text": [
            "Parameter containing:\n",
            "tensor([[[[1., 1., 1.],\n",
            "          [1., 1., 1.],\n",
            "          [1., 1., 1.]]]], requires_grad=True)\n"
          ]
        }
      ],
      "source": [
        "conv.weight = torch.nn.Parameter(torch.ones_like(conv.weight))\n",
        "print(conv.weight)"
      ]
    },
    {
      "cell_type": "markdown",
      "id": "serial-evolution",
      "metadata": {
        "id": "serial-evolution"
      },
      "source": [
        "Let's define an input (image) `x`. The input is of the same shape as the filter:"
      ]
    },
    {
      "cell_type": "code",
      "execution_count": 8,
      "id": "preceding-spank",
      "metadata": {
        "id": "preceding-spank",
        "scrolled": true
      },
      "outputs": [
        {
          "name": "stdout",
          "output_type": "stream",
          "text": [
            "Input:\n",
            " tensor([[[[0., 1., 2.],\n",
            "          [3., 4., 5.],\n",
            "          [6., 7., 8.]]]])\n",
            "Sum of all input elements: 36.0\n"
          ]
        }
      ],
      "source": [
        "x = torch.arange(float(W*W))\n",
        "x = torch.reshape(x, (1, 1, W, W))\n",
        "print('Input:\\n', x)\n",
        "print('Sum of all input elements:', torch.sum(x).item())"
      ]
    },
    {
      "cell_type": "markdown",
      "id": "streaming-benjamin",
      "metadata": {
        "id": "streaming-benjamin"
      },
      "source": [
        "Because there is no padding and input and filter have the same size, there is only one valid position for the filter. Accordingly, the result is a tensor with a single value:"
      ]
    },
    {
      "cell_type": "code",
      "execution_count": 9,
      "id": "million-bunch",
      "metadata": {
        "id": "million-bunch"
      },
      "outputs": [
        {
          "name": "stdout",
          "output_type": "stream",
          "text": [
            "Tensor: tensor([[[[36.]]]], grad_fn=<ConvolutionBackward0>) scalar: 36.0\n"
          ]
        }
      ],
      "source": [
        "c = conv(x)\n",
        "print('Tensor:', c, 'scalar:', c.item())"
      ]
    },
    {
      "cell_type": "markdown",
      "id": "final-positive",
      "metadata": {
        "id": "final-positive"
      },
      "source": [
        "The scalar should be equal to the sum of all input elements (ensure that you understand why)."
      ]
    },
    {
      "cell_type": "markdown",
      "id": "limiting-stomach",
      "metadata": {
        "id": "limiting-stomach"
      },
      "source": [
        "## One input channel, one output,  padding\n",
        "Now we add zero-padding such that the input dimensionality is preseved:\n"
      ]
    },
    {
      "cell_type": "code",
      "execution_count": 10,
      "id": "naughty-alfred",
      "metadata": {
        "id": "naughty-alfred"
      },
      "outputs": [
        {
          "name": "stdout",
          "output_type": "stream",
          "text": [
            "tensor([[[[ 8., 15., 12.],\n",
            "          [21., 36., 27.],\n",
            "          [20., 33., 24.]]]], grad_fn=<ConvolutionBackward0>)\n"
          ]
        }
      ],
      "source": [
        "conv = nn.Conv2d(1, 1, W, padding=W//2, bias=False)\n",
        "conv.weight = torch.nn.Parameter(torch.ones_like(conv.weight))\n",
        "c = conv(x)\n",
        "print(c)"
      ]
    },
    {
      "cell_type": "markdown",
      "id": "invalid-communication",
      "metadata": {
        "id": "invalid-communication"
      },
      "source": [
        "## Several input channels, one output, no padding\n",
        "Typically, the input to a convolutional layer consists of several feature maps or channels. For example, consider a 2D input with three channels (e.g., an RGB colour image):"
      ]
    },
    {
      "cell_type": "code",
      "execution_count": 11,
      "id": "amber-somerset",
      "metadata": {
        "id": "amber-somerset"
      },
      "outputs": [
        {
          "name": "stdout",
          "output_type": "stream",
          "text": [
            "Input: tensor([[[[ 0.,  1.,  2.],\n",
            "          [ 3.,  4.,  5.],\n",
            "          [ 6.,  7.,  8.]],\n",
            "\n",
            "         [[ 9., 10., 11.],\n",
            "          [12., 13., 14.],\n",
            "          [15., 16., 17.]],\n",
            "\n",
            "         [[18., 19., 20.],\n",
            "          [21., 22., 23.],\n",
            "          [24., 25., 26.]]]])\n",
            "Sum of all inputs: 351.0\n"
          ]
        }
      ],
      "source": [
        "x = torch.arange(float(3*W*W))\n",
        "x = torch.reshape(x, (1, 3, W, W))\n",
        "print('Input:', x)\n",
        "print('Sum of all inputs:', torch.sum(x).item())"
      ]
    },
    {
      "cell_type": "markdown",
      "id": "voluntary-porter",
      "metadata": {
        "id": "voluntary-porter"
      },
      "source": [
        "Let's define a convolutional layer that takes three channels as input and produces a single output feature map:"
      ]
    },
    {
      "cell_type": "code",
      "execution_count": 12,
      "id": "spare-ranch",
      "metadata": {
        "id": "spare-ranch"
      },
      "outputs": [
        {
          "name": "stdout",
          "output_type": "stream",
          "text": [
            "Weight parameters of convolutional layer: Parameter containing:\n",
            "tensor([[[[1., 1., 1.],\n",
            "          [1., 1., 1.],\n",
            "          [1., 1., 1.]],\n",
            "\n",
            "         [[1., 1., 1.],\n",
            "          [1., 1., 1.],\n",
            "          [1., 1., 1.]],\n",
            "\n",
            "         [[1., 1., 1.],\n",
            "          [1., 1., 1.],\n",
            "          [1., 1., 1.]]]], requires_grad=True)\n"
          ]
        }
      ],
      "source": [
        "# 3 input (image) channels, 1 output channel, WxW convolution kernel\n",
        "conv = nn.Conv2d(3, 1, W, bias=False)\n",
        "conv.weight = torch.nn.Parameter(torch.ones_like(conv.weight))\n",
        "print('Weight parameters of convolutional layer:', conv.weight)"
      ]
    },
    {
      "cell_type": "markdown",
      "id": "prime-wrapping",
      "metadata": {
        "id": "prime-wrapping"
      },
      "source": [
        "Note that there is one filter for each input channel.\n",
        "The convolutional layer first convolves each input channel with the corresponding filter.\n",
        "This results in three feature maps, whih are added to give the final result:"
      ]
    },
    {
      "cell_type": "code",
      "execution_count": 13,
      "id": "remarkable-prayer",
      "metadata": {
        "id": "remarkable-prayer",
        "scrolled": false
      },
      "outputs": [
        {
          "name": "stdout",
          "output_type": "stream",
          "text": [
            "number of filter parameters: 27 \n",
            "result of filtering the input: tensor([[[[351.]]]], grad_fn=<ConvolutionBackward0>)\n"
          ]
        }
      ],
      "source": [
        "c = conv(x)\n",
        "print('number of filter parameters:', conv.weight.numel(), '\\nresult of filtering the input:', c)"
      ]
    },
    {
      "cell_type": "markdown",
      "id": "accessible-calcium",
      "metadata": {
        "id": "accessible-calcium"
      },
      "source": [
        "It is important that the number of parameters and the dimesionality of the result is clear to you."
      ]
    },
    {
      "cell_type": "markdown",
      "id": "expected-antarctica",
      "metadata": {
        "id": "expected-antarctica"
      },
      "source": [
        "Now let's apply 1$\\times$1 convolutions to our three input channels. Again, we set all filter weights to 1."
      ]
    },
    {
      "cell_type": "code",
      "execution_count": 14,
      "id": "likely-front",
      "metadata": {
        "id": "likely-front",
        "scrolled": true
      },
      "outputs": [
        {
          "name": "stdout",
          "output_type": "stream",
          "text": [
            "Parameter containing:\n",
            "tensor([[[[1.]],\n",
            "\n",
            "         [[1.]],\n",
            "\n",
            "         [[1.]]]], requires_grad=True)\n"
          ]
        }
      ],
      "source": [
        "# 3 input (image) channels, 1 output channel, 1x1 convolution kernel\n",
        "conv = nn.Conv2d(3, 1, 1, bias=False)\n",
        "conv.weight = torch.nn.Parameter(torch.ones_like(conv.weight))\n",
        "print(conv.weight)"
      ]
    },
    {
      "cell_type": "markdown",
      "id": "advisory-resort",
      "metadata": {
        "id": "advisory-resort"
      },
      "source": [
        "This convolutional layer adds the three input feature maps/channels:"
      ]
    },
    {
      "cell_type": "code",
      "execution_count": 15,
      "id": "amateur-sharing",
      "metadata": {
        "id": "amateur-sharing",
        "scrolled": true
      },
      "outputs": [
        {
          "name": "stdout",
          "output_type": "stream",
          "text": [
            "tensor([[[[27., 30., 33.],\n",
            "          [36., 39., 42.],\n",
            "          [45., 48., 51.]]]], grad_fn=<ConvolutionBackward0>)\n"
          ]
        }
      ],
      "source": [
        "c = conv(x)\n",
        "print(c)"
      ]
    },
    {
      "cell_type": "markdown",
      "id": "million-liberty",
      "metadata": {
        "id": "million-liberty"
      },
      "source": [
        "Thus, 1$\\times$1 convolutions can be used to compute weighted sums of input feature maps/channels (in our previous example, all weights were set to 1)."
      ]
    },
    {
      "cell_type": "markdown",
      "id": "threatened-rolling",
      "metadata": {
        "id": "threatened-rolling"
      },
      "source": [
        "## Several output maps\n",
        "Typically, convolutional layer produce several feature maps or channels. For example, consider\n",
        "extending the previous 1$\\times$1 example to two output maps:"
      ]
    },
    {
      "cell_type": "code",
      "execution_count": 16,
      "id": "effective-reform",
      "metadata": {
        "id": "effective-reform",
        "scrolled": true
      },
      "outputs": [
        {
          "name": "stdout",
          "output_type": "stream",
          "text": [
            "Parameter containing:\n",
            "tensor([[[[1.]],\n",
            "\n",
            "         [[1.]],\n",
            "\n",
            "         [[1.]]],\n",
            "\n",
            "\n",
            "        [[[1.]],\n",
            "\n",
            "         [[1.]],\n",
            "\n",
            "         [[1.]]]], requires_grad=True)\n"
          ]
        }
      ],
      "source": [
        "# 3 input (image) channels, 2 output channel, 1x1 convolution kernel\n",
        "conv = nn.Conv2d(3, 2, 1, bias=False)\n",
        "conv.weight = torch.nn.Parameter(torch.ones_like(conv.weight))\n",
        "print(conv.weight)"
      ]
    },
    {
      "cell_type": "markdown",
      "id": "veterinary-while",
      "metadata": {
        "id": "veterinary-while"
      },
      "source": [
        "This layer maps 3 input feature maps to 2 output feature maps, which are identical in our example, because we initialized all filters so that they are identical:"
      ]
    },
    {
      "cell_type": "code",
      "execution_count": 17,
      "id": "civilian-dallas",
      "metadata": {
        "id": "civilian-dallas",
        "scrolled": true
      },
      "outputs": [
        {
          "name": "stdout",
          "output_type": "stream",
          "text": [
            "tensor([[[[27., 30., 33.],\n",
            "          [36., 39., 42.],\n",
            "          [45., 48., 51.]],\n",
            "\n",
            "         [[27., 30., 33.],\n",
            "          [36., 39., 42.],\n",
            "          [45., 48., 51.]]]], grad_fn=<ConvolutionBackward0>)\n"
          ]
        }
      ],
      "source": [
        "c = conv(x)\n",
        "print(c)"
      ]
    },
    {
      "cell_type": "markdown",
      "id": "korean-arrow",
      "metadata": {
        "id": "korean-arrow"
      },
      "source": [
        "The first convolutional layer in a network has typically more output feature maps than input channels. Let's assume 3 input channels, 4 output channels of the same dimensionality (i.e., we use padding), and a filter size of 3. For each output channel, we have 3 filter with 9 parameters/weights each. Thus, we have 108 parameters in total:"
      ]
    },
    {
      "cell_type": "code",
      "execution_count": 18,
      "id": "infrared-renewal",
      "metadata": {
        "id": "infrared-renewal",
        "scrolled": true
      },
      "outputs": [
        {
          "name": "stdout",
          "output_type": "stream",
          "text": [
            "Parameter containing:\n",
            "tensor([[[[ 0.0863, -0.1034,  0.1450],\n",
            "          [-0.1824, -0.1236, -0.0497],\n",
            "          [-0.0248,  0.0069, -0.0047]],\n",
            "\n",
            "         [[ 0.0358,  0.1653,  0.1725],\n",
            "          [ 0.1403, -0.1190,  0.0515],\n",
            "          [ 0.0837,  0.0609, -0.0186]],\n",
            "\n",
            "         [[-0.1076,  0.0920,  0.1810],\n",
            "          [ 0.0821,  0.1350, -0.1471],\n",
            "          [-0.1687,  0.0727, -0.1163]]],\n",
            "\n",
            "\n",
            "        [[[ 0.0442,  0.1266, -0.0284],\n",
            "          [ 0.0501, -0.0818, -0.1503],\n",
            "          [ 0.1227, -0.1921,  0.1739]],\n",
            "\n",
            "         [[-0.0906, -0.1724,  0.1704],\n",
            "          [-0.1030,  0.0147,  0.1574],\n",
            "          [ 0.0290,  0.0748,  0.1856]],\n",
            "\n",
            "         [[ 0.1392,  0.0631, -0.0279],\n",
            "          [-0.0229, -0.0592,  0.0458],\n",
            "          [ 0.1494, -0.0300,  0.1382]]],\n",
            "\n",
            "\n",
            "        [[[ 0.1242, -0.0567, -0.1043],\n",
            "          [-0.0937, -0.1011,  0.1120],\n",
            "          [-0.1193, -0.0751,  0.0639]],\n",
            "\n",
            "         [[-0.1208,  0.1147,  0.1707],\n",
            "          [ 0.1494, -0.1350,  0.0432],\n",
            "          [ 0.0190,  0.0149, -0.0318]],\n",
            "\n",
            "         [[ 0.0370, -0.0874, -0.1871],\n",
            "          [-0.1367,  0.1644, -0.1639],\n",
            "          [ 0.0758,  0.0835,  0.0033]]],\n",
            "\n",
            "\n",
            "        [[[-0.0366, -0.1849,  0.0139],\n",
            "          [ 0.1280,  0.0386,  0.0774],\n",
            "          [-0.1242, -0.1111, -0.0336]],\n",
            "\n",
            "         [[-0.1125, -0.0115,  0.0669],\n",
            "          [ 0.1343,  0.0596, -0.1633],\n",
            "          [-0.1030, -0.0075,  0.0995]],\n",
            "\n",
            "         [[-0.1216, -0.1474,  0.0305],\n",
            "          [ 0.1110,  0.0979,  0.0407],\n",
            "          [-0.0526, -0.0719,  0.0089]]]], requires_grad=True)\n",
            "Number of parameters: 108\n"
          ]
        }
      ],
      "source": [
        "conv = nn.Conv2d(3, 4, W, padding=W//2, bias=False)\n",
        "print(conv.weight)\n",
        "print(\"Number of parameters:\", conv.weight.shape.numel())"
      ]
    },
    {
      "cell_type": "markdown",
      "id": "primary-chair",
      "metadata": {
        "id": "primary-chair"
      },
      "source": [
        "And here are the resulting feature maps when applied to our input:"
      ]
    },
    {
      "cell_type": "code",
      "execution_count": 19,
      "id": "blond-damages",
      "metadata": {
        "id": "blond-damages"
      },
      "outputs": [
        {
          "name": "stdout",
          "output_type": "stream",
          "text": [
            "tensor([[[[-1.5118, -1.6374,  3.7590],\n",
            "          [ 6.1848,  4.8867,  5.4996],\n",
            "          [ 7.9212,  9.7276,  5.8731]],\n",
            "\n",
            "         [[ 7.2011,  9.9922,  0.9502],\n",
            "          [ 8.7622, 14.0511,  2.2081],\n",
            "          [ 2.0452,  2.2778, -2.0802]],\n",
            "\n",
            "         [[ 0.7951,  1.1204,  3.5968],\n",
            "          [-1.7630, -2.3250,  2.1555],\n",
            "          [-4.2507, -6.3818, -1.4570]],\n",
            "\n",
            "         [[ 0.9393,  1.4685,  0.9650],\n",
            "          [-0.4497, -3.0735, -5.6535],\n",
            "          [ 0.2295,  1.5823,  0.9298]]]], grad_fn=<ConvolutionBackward0>)\n"
          ]
        }
      ],
      "source": [
        "c = conv(x)\n",
        "print(c)"
      ]
    },
    {
      "cell_type": "markdown",
      "id": "central-ozone",
      "metadata": {
        "id": "central-ozone"
      },
      "source": [
        "# Image processing examples\n",
        "Now we consider a more complex example that involves some basic image transformations. First, we need to import NumPy and some image utilities."
      ]
    },
    {
      "cell_type": "code",
      "execution_count": 20,
      "id": "preliminary-discount",
      "metadata": {
        "id": "preliminary-discount"
      },
      "outputs": [],
      "source": [
        "import torchvision\n",
        "from PIL import Image\n",
        "import numpy as np\n",
        "import matplotlib.pyplot as plt"
      ]
    },
    {
      "cell_type": "markdown",
      "id": "concerned-demographic",
      "metadata": {
        "id": "concerned-demographic"
      },
      "source": [
        "Let's load an image and convert it to grayscale so that we just deal with a single channel. The image is available from Absalon. Please upload it to your google drive folder."
      ]
    },
    {
      "cell_type": "code",
      "execution_count": 21,
      "id": "surprised-advancement",
      "metadata": {
        "id": "surprised-advancement"
      },
      "outputs": [],
      "source": [
        "image = Image.open('diku.jpg')  # Load image\n",
        "image = torchvision.transforms.functional.to_grayscale(image)  # Transform to grayscale, because we only wnat one channel"
      ]
    },
    {
      "cell_type": "markdown",
      "id": "colonial-netscape",
      "metadata": {
        "id": "colonial-netscape"
      },
      "source": [
        "Let's plot the image:"
      ]
    },
    {
      "cell_type": "code",
      "execution_count": 22,
      "id": "median-coordinate",
      "metadata": {
        "id": "median-coordinate"
      },
      "outputs": [
        {
          "name": "stdout",
          "output_type": "stream",
          "text": [
            "PIL image shape: (42, 134) min: 0 max: 255\n"
          ]
        },
        {
          "data": {
            "image/png": "[encoded data removed]",
            "text/plain": [
              "<Figure size 640x480 with 1 Axes>"
            ]
          },
          "metadata": {},
          "output_type": "display_data"
        }
      ],
      "source": [
        "img_np = np.asarray(image)\n",
        "print(\"PIL image shape:\", img_np.shape, \"min:\", img_np.min(), \"max:\", img_np.max())\n",
        "plt.imshow(image, cmap='gray', vmin=0, vmax=255)"
      ]
    },
    {
      "cell_type": "markdown",
      "id": "broadband-lingerie",
      "metadata": {
        "id": "broadband-lingerie"
      },
      "source": [
        "The transformation of the image to a tensor maps has two important effects. First, the values are rescaled to $[0.,1.]$. Second, the channels become the first dimension.  The latter implies that, if we want to plot the image, we have to reorder the axes."
      ]
    },
    {
      "cell_type": "code",
      "execution_count": 23,
      "id": "caroline-strength",
      "metadata": {
        "id": "caroline-strength"
      },
      "outputs": [
        {
          "name": "stdout",
          "output_type": "stream",
          "text": [
            "Tensor shape: torch.Size([1, 42, 134]) min: 0.0 max: 1.0\n"
          ]
        },
        {
          "data": {
            "image/png": "[encoded data removed]",
            "text/plain": [
              "<Figure size 640x480 with 1 Axes>"
            ]
          },
          "metadata": {},
          "output_type": "display_data"
        }
      ],
      "source": [
        "x = torchvision.transforms.ToTensor()(image)\n",
        "print(\"Tensor shape:\", x.shape, \"min:\", x.min().item(), \"max:\", x.max().item())\n",
        "plt.imshow(x.permute(1, 2, 0).squeeze(), cmap='gray', vmin=0, vmax=1)"
      ]
    },
    {
      "cell_type": "markdown",
      "id": "suitable-drill",
      "metadata": {
        "id": "suitable-drill"
      },
      "source": [
        "In order to be process by a layer, the tensor needs  another dimension/axis for enumerating the elements in a batch:"
      ]
    },
    {
      "cell_type": "code",
      "execution_count": 24,
      "id": "heated-service",
      "metadata": {
        "id": "heated-service"
      },
      "outputs": [
        {
          "name": "stdout",
          "output_type": "stream",
          "text": [
            "Shape after adding batch dimension: torch.Size([1, 1, 42, 134])\n"
          ]
        }
      ],
      "source": [
        "x.unsqueeze_(0)  # Add a dimension\n",
        "print(\"Shape after adding batch dimension:\", x.shape)"
      ]
    },
    {
      "cell_type": "markdown",
      "id": "empirical-rainbow",
      "metadata": {
        "id": "empirical-rainbow"
      },
      "source": [
        "Now we apply a simple horizontal gradient filter:"
      ]
    },
    {
      "cell_type": "code",
      "execution_count": 25,
      "id": "trained-eligibility",
      "metadata": {
        "id": "trained-eligibility"
      },
      "outputs": [
        {
          "name": "stdout",
          "output_type": "stream",
          "text": [
            "Kernel: tensor([[[[-1.,  1.]]]]) shape: torch.Size([1, 1, 1, 2])\n",
            "Tensor shape: torch.Size([1, 1, 42, 135]) min: -1.0 max: 1.0\n"
          ]
        }
      ],
      "source": [
        "hf = torch.tensor([[[[-1., 1.]]]])  # Define filter\n",
        "print(\"Kernel:\", hf, \"shape:\", hf.shape)\n",
        "\n",
        "conv = nn.Conv2d(1, 1, kernel_size=(1, 2), padding=(0, 1), bias=False)  # Padding only in one dimension needed\n",
        "conv.weight = torch.nn.Parameter(hf, requires_grad=False)  # Set kernel parameters to predefined filter parameters\n",
        "c = conv(x)  # Apply filter\n",
        "print(\"Tensor shape:\", c.shape, \"min:\", c.min().item(), \"max:\", c.max().item())"
      ]
    },
    {
      "cell_type": "markdown",
      "id": "historic-comedy",
      "metadata": {
        "id": "historic-comedy"
      },
      "source": [
        "We do not need a gradient for the kernel parameters, so we can use ``requires_grad=False``. This allows us to use ``c[0.0]`` as a NumPy array in the visualizaiton below. Alternatively, we could use ``c[0,0].detach()`` in the ``imshow`` call."
      ]
    },
    {
      "cell_type": "code",
      "execution_count": 26,
      "id": "natural-trail",
      "metadata": {
        "id": "natural-trail",
        "scrolled": true
      },
      "outputs": [
        {
          "name": "stdout",
          "output_type": "stream",
          "text": [
            "torch.Size([42, 135])\n"
          ]
        },
        {
          "data": {
            "image/png": "[encoded data removed]",
            "text/plain": [
              "<Figure size 640x480 with 1 Axes>"
            ]
          },
          "metadata": {},
          "output_type": "display_data"
        }
      ],
      "source": [
        "print(c[0,0].shape)\n",
        "plt.imshow(c[0,0], cmap='gray', vmin=-1, vmax=1)"
      ]
    }
  ],
  "metadata": {
    "colab": {
      "provenance": []
    },
    "kernelspec": {
      "display_name": "Python 3",
      "language": "python",
      "name": "python3"
    },
    "language_info": {
      "codemirror_mode": {
        "name": "ipython",
        "version": 3
      },
      "file_extension": ".py",
      "mimetype": "text/x-python",
      "name": "python",
      "nbconvert_exporter": "python",
      "pygments_lexer": "ipython3",
      "version": "3.10.9"
    }
  },
  "nbformat": 4,
  "nbformat_minor": 5
}
